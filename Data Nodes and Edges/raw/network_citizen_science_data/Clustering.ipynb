{
 "cells": [
  {
   "cell_type": "code",
   "execution_count": 274,
   "metadata": {},
   "outputs": [],
   "source": [
    "import pandas as pd\n",
    "import networkx as nx\n",
    "import numpy as np\n",
    "import math\n",
    "import os\n",
    "import matplotlib.pyplot as plt\n",
    "import scipy.stats\n",
    "from datetime import datetime\n",
    "from kneed import KneeLocator\n",
    "from sklearn.datasets import make_blobs\n",
    "from sklearn.cluster import KMeans\n",
    "from sklearn.decomposition import PCA\n",
    "from sklearn.metrics import silhouette_score\n",
    "from sklearn.preprocessing import StandardScaler\n",
    "from gensim.models import Word2Vec\n",
    "from Bio import Entrez"
   ]
  },
  {
   "cell_type": "code",
   "execution_count": 62,
   "metadata": {},
   "outputs": [],
   "source": [
    "df = pd.read_csv('CNC_San_Francisco_2017.csv')"
   ]
  },
  {
   "cell_type": "code",
   "execution_count": 18,
   "metadata": {
    "scrolled": true
   },
   "outputs": [
    {
     "data": {
      "text/html": [
       "<div>\n",
       "<style scoped>\n",
       "    .dataframe tbody tr th:only-of-type {\n",
       "        vertical-align: middle;\n",
       "    }\n",
       "\n",
       "    .dataframe tbody tr th {\n",
       "        vertical-align: top;\n",
       "    }\n",
       "\n",
       "    .dataframe thead th {\n",
       "        text-align: right;\n",
       "    }\n",
       "</style>\n",
       "<table border=\"1\" class=\"dataframe\">\n",
       "  <thead>\n",
       "    <tr style=\"text-align: right;\">\n",
       "      <th></th>\n",
       "      <th>captive</th>\n",
       "      <th>created_at</th>\n",
       "      <th>created_time_zone</th>\n",
       "      <th>description</th>\n",
       "      <th>faves_count</th>\n",
       "      <th>geoprivacy</th>\n",
       "      <th>iconic_taxon_name</th>\n",
       "      <th>id</th>\n",
       "      <th>identifications</th>\n",
       "      <th>identifications_most_agree</th>\n",
       "      <th>...</th>\n",
       "      <th>taxon_native</th>\n",
       "      <th>taxon_observations</th>\n",
       "      <th>taxon_parent_id</th>\n",
       "      <th>taxon_rank</th>\n",
       "      <th>taxon_search_rank</th>\n",
       "      <th>taxon_threatened</th>\n",
       "      <th>time_observed_at</th>\n",
       "      <th>updated_at</th>\n",
       "      <th>user_id</th>\n",
       "      <th>user_login</th>\n",
       "    </tr>\n",
       "  </thead>\n",
       "  <tbody>\n",
       "    <tr>\n",
       "      <th>0</th>\n",
       "      <td>False</td>\n",
       "      <td>2017-04-13T13:29:41-07:00</td>\n",
       "      <td>America/Los_Angeles</td>\n",
       "      <td>NaN</td>\n",
       "      <td>0</td>\n",
       "      <td>NaN</td>\n",
       "      <td>Insecta</td>\n",
       "      <td>5677489</td>\n",
       "      <td>[{'user_id': 8778, 'category': 'maverick', 'di...</td>\n",
       "      <td>True</td>\n",
       "      <td>...</td>\n",
       "      <td>False</td>\n",
       "      <td>118929.0</td>\n",
       "      <td>49025.0</td>\n",
       "      <td>family</td>\n",
       "      <td>118929.0</td>\n",
       "      <td>False</td>\n",
       "      <td>2017-04-13T12:40:50-07:00</td>\n",
       "      <td>2018-11-26T12:33:26-08:00</td>\n",
       "      <td>8778</td>\n",
       "      <td>gyrrlfalcon</td>\n",
       "    </tr>\n",
       "    <tr>\n",
       "      <th>1</th>\n",
       "      <td>False</td>\n",
       "      <td>2017-04-13T18:37:08-07:00</td>\n",
       "      <td>America/Los_Angeles</td>\n",
       "      <td>NaN</td>\n",
       "      <td>0</td>\n",
       "      <td>NaN</td>\n",
       "      <td>Plantae</td>\n",
       "      <td>5682279</td>\n",
       "      <td>[{'user_id': 179103, 'category': 'supporting',...</td>\n",
       "      <td>True</td>\n",
       "      <td>...</td>\n",
       "      <td>True</td>\n",
       "      <td>8614.0</td>\n",
       "      <td>48245.0</td>\n",
       "      <td>species</td>\n",
       "      <td>8614.0</td>\n",
       "      <td>False</td>\n",
       "      <td>2017-04-13T15:57:53-07:00</td>\n",
       "      <td>2018-11-26T06:03:56-08:00</td>\n",
       "      <td>4797</td>\n",
       "      <td>paranger</td>\n",
       "    </tr>\n",
       "    <tr>\n",
       "      <th>2</th>\n",
       "      <td>False</td>\n",
       "      <td>2017-04-13T18:44:41-07:00</td>\n",
       "      <td>America/Los_Angeles</td>\n",
       "      <td>NaN</td>\n",
       "      <td>0</td>\n",
       "      <td>NaN</td>\n",
       "      <td>Plantae</td>\n",
       "      <td>5682371</td>\n",
       "      <td>[{'user_id': 179103, 'category': 'supporting',...</td>\n",
       "      <td>True</td>\n",
       "      <td>...</td>\n",
       "      <td>True</td>\n",
       "      <td>8614.0</td>\n",
       "      <td>48245.0</td>\n",
       "      <td>species</td>\n",
       "      <td>8614.0</td>\n",
       "      <td>False</td>\n",
       "      <td>2017-04-13T16:08:07-07:00</td>\n",
       "      <td>2018-11-26T06:03:57-08:00</td>\n",
       "      <td>4797</td>\n",
       "      <td>paranger</td>\n",
       "    </tr>\n",
       "    <tr>\n",
       "      <th>3</th>\n",
       "      <td>False</td>\n",
       "      <td>2017-04-14T00:20:21-07:00</td>\n",
       "      <td>America/Los_Angeles</td>\n",
       "      <td>NaN</td>\n",
       "      <td>0</td>\n",
       "      <td>obscured</td>\n",
       "      <td>Insecta</td>\n",
       "      <td>5684642</td>\n",
       "      <td>[{'user_id': 1, 'category': None, 'disagreemen...</td>\n",
       "      <td>False</td>\n",
       "      <td>...</td>\n",
       "      <td>False</td>\n",
       "      <td>6463.0</td>\n",
       "      <td>55518.0</td>\n",
       "      <td>family</td>\n",
       "      <td>6463.0</td>\n",
       "      <td>False</td>\n",
       "      <td>2017-04-14T00:13:00-07:00</td>\n",
       "      <td>2017-04-21T14:58:31-07:00</td>\n",
       "      <td>1</td>\n",
       "      <td>kueda</td>\n",
       "    </tr>\n",
       "    <tr>\n",
       "      <th>4</th>\n",
       "      <td>False</td>\n",
       "      <td>2017-04-14T00:29:36-07:00</td>\n",
       "      <td>America/Los_Angeles</td>\n",
       "      <td>NaN</td>\n",
       "      <td>0</td>\n",
       "      <td>NaN</td>\n",
       "      <td>Insecta</td>\n",
       "      <td>5684660</td>\n",
       "      <td>[{'user_id': 3494, 'category': 'leading', 'dis...</td>\n",
       "      <td>True</td>\n",
       "      <td>...</td>\n",
       "      <td>False</td>\n",
       "      <td>1176.0</td>\n",
       "      <td>67740.0</td>\n",
       "      <td>subgenus</td>\n",
       "      <td>1176.0</td>\n",
       "      <td>False</td>\n",
       "      <td>2017-04-14T00:28:12-07:00</td>\n",
       "      <td>2020-02-15T14:31:49-08:00</td>\n",
       "      <td>3494</td>\n",
       "      <td>damontighe</td>\n",
       "    </tr>\n",
       "  </tbody>\n",
       "</table>\n",
       "<p>5 rows × 38 columns</p>\n",
       "</div>"
      ],
      "text/plain": [
       "   captive                 created_at    created_time_zone description  \\\n",
       "0    False  2017-04-13T13:29:41-07:00  America/Los_Angeles         NaN   \n",
       "1    False  2017-04-13T18:37:08-07:00  America/Los_Angeles         NaN   \n",
       "2    False  2017-04-13T18:44:41-07:00  America/Los_Angeles         NaN   \n",
       "3    False  2017-04-14T00:20:21-07:00  America/Los_Angeles         NaN   \n",
       "4    False  2017-04-14T00:29:36-07:00  America/Los_Angeles         NaN   \n",
       "\n",
       "   faves_count geoprivacy iconic_taxon_name       id  \\\n",
       "0            0        NaN           Insecta  5677489   \n",
       "1            0        NaN           Plantae  5682279   \n",
       "2            0        NaN           Plantae  5682371   \n",
       "3            0   obscured           Insecta  5684642   \n",
       "4            0        NaN           Insecta  5684660   \n",
       "\n",
       "                                     identifications  \\\n",
       "0  [{'user_id': 8778, 'category': 'maverick', 'di...   \n",
       "1  [{'user_id': 179103, 'category': 'supporting',...   \n",
       "2  [{'user_id': 179103, 'category': 'supporting',...   \n",
       "3  [{'user_id': 1, 'category': None, 'disagreemen...   \n",
       "4  [{'user_id': 3494, 'category': 'leading', 'dis...   \n",
       "\n",
       "   identifications_most_agree  ...  taxon_native  taxon_observations  \\\n",
       "0                        True  ...         False            118929.0   \n",
       "1                        True  ...          True              8614.0   \n",
       "2                        True  ...          True              8614.0   \n",
       "3                       False  ...         False              6463.0   \n",
       "4                        True  ...         False              1176.0   \n",
       "\n",
       "   taxon_parent_id  taxon_rank  taxon_search_rank  taxon_threatened  \\\n",
       "0          49025.0      family           118929.0             False   \n",
       "1          48245.0     species             8614.0             False   \n",
       "2          48245.0     species             8614.0             False   \n",
       "3          55518.0      family             6463.0             False   \n",
       "4          67740.0    subgenus             1176.0             False   \n",
       "\n",
       "            time_observed_at                 updated_at user_id   user_login  \n",
       "0  2017-04-13T12:40:50-07:00  2018-11-26T12:33:26-08:00    8778  gyrrlfalcon  \n",
       "1  2017-04-13T15:57:53-07:00  2018-11-26T06:03:56-08:00    4797     paranger  \n",
       "2  2017-04-13T16:08:07-07:00  2018-11-26T06:03:57-08:00    4797     paranger  \n",
       "3  2017-04-14T00:13:00-07:00  2017-04-21T14:58:31-07:00       1        kueda  \n",
       "4  2017-04-14T00:28:12-07:00  2020-02-15T14:31:49-08:00    3494   damontighe  \n",
       "\n",
       "[5 rows x 38 columns]"
      ]
     },
     "execution_count": 18,
     "metadata": {},
     "output_type": "execute_result"
    }
   ],
   "source": [
    "df.head()"
   ]
  },
  {
   "cell_type": "code",
   "execution_count": 8,
   "metadata": {},
   "outputs": [
    {
     "data": {
      "text/plain": [
       "(24051, 38)"
      ]
     },
     "execution_count": 8,
     "metadata": {},
     "output_type": "execute_result"
    }
   ],
   "source": [
    "df.shape"
   ]
  },
  {
   "cell_type": "code",
   "execution_count": 16,
   "metadata": {},
   "outputs": [],
   "source": [
    "df = df.dropna(subset=['iconic_taxon_name'])"
   ]
  },
  {
   "cell_type": "code",
   "execution_count": 19,
   "metadata": {},
   "outputs": [],
   "source": [
    "def percentile(n):\n",
    "    def percentile_(x):\n",
    "        return np.percentile(x, n)\n",
    "    percentile_.__name__ = 'percentile_%s' % n\n",
    "    return percentile_"
   ]
  },
  {
   "cell_type": "code",
   "execution_count": 26,
   "metadata": {},
   "outputs": [],
   "source": [
    "users_counts = df.groupby(['user_id'])['id'].count().reset_index()\n",
    "users_counts.columns = ['user_id', 'count']"
   ]
  },
  {
   "cell_type": "code",
   "execution_count": 61,
   "metadata": {},
   "outputs": [
    {
     "data": {
      "text/plain": [
       "17.0"
      ]
     },
     "execution_count": 61,
     "metadata": {},
     "output_type": "execute_result"
    }
   ],
   "source": [
    "np.percentile(users_counts['count'], 75)"
   ]
  },
  {
   "cell_type": "code",
   "execution_count": 63,
   "metadata": {},
   "outputs": [],
   "source": [
    "selected = users_counts.query('count >= 17')['user_id']"
   ]
  },
  {
   "cell_type": "code",
   "execution_count": 64,
   "metadata": {},
   "outputs": [],
   "source": [
    "df_f = df[df['user_id'].isin(selected)]"
   ]
  },
  {
   "cell_type": "code",
   "execution_count": 284,
   "metadata": {},
   "outputs": [],
   "source": [
    "Entrez.email = \"vadimvoskresenskiy@gmail.com\"\n",
    "handle = Entrez.efetch(db=\"Taxonomy\", id=\"53237\", retmode=\"xml\")"
   ]
  },
  {
   "cell_type": "code",
   "execution_count": 285,
   "metadata": {},
   "outputs": [],
   "source": [
    "records = Entrez.read(handle)"
   ]
  },
  {
   "cell_type": "code",
   "execution_count": 281,
   "metadata": {},
   "outputs": [
    {
     "data": {
      "text/plain": [
       "Index(['captive', 'created_at', 'created_time_zone', 'description',\n",
       "       'faves_count', 'geoprivacy', 'iconic_taxon_name', 'id',\n",
       "       'identifications', 'identifications_most_agree',\n",
       "       'identifications_most_disagree', 'latitude', 'longitude',\n",
       "       'num_identification_agreements', 'num_identification_disagreements',\n",
       "       'obscured', 'observed_on_string', 'place_guess', 'place_ids',\n",
       "       'positional_accuracy', 'preferred_common_name', 'quality_grade',\n",
       "       'reviewed_by', 'species_guess', 'taxon_endemic', 'taxon_geoprivacy',\n",
       "       'taxon_id', 'taxon_name', 'taxon_native', 'taxon_observations',\n",
       "       'taxon_parent_id', 'taxon_rank', 'taxon_search_rank',\n",
       "       'taxon_threatened', 'time_observed_at', 'updated_at', 'user_id',\n",
       "       'user_login'],\n",
       "      dtype='object')"
      ]
     },
     "execution_count": 281,
     "metadata": {},
     "output_type": "execute_result"
    }
   ],
   "source": [
    "df_f.columns"
   ]
  },
  {
   "cell_type": "code",
   "execution_count": 295,
   "metadata": {},
   "outputs": [
    {
     "data": {
      "text/plain": [
       "0    49025.0\n",
       "3    55518.0\n",
       "4    67740.0\n",
       "6    53113.0\n",
       "7    52991.0\n",
       "Name: taxon_parent_id, dtype: float64"
      ]
     },
     "execution_count": 295,
     "metadata": {},
     "output_type": "execute_result"
    }
   ],
   "source": [
    "df_f['taxon_parent_id'][0:5]"
   ]
  },
  {
   "cell_type": "code",
   "execution_count": 289,
   "metadata": {},
   "outputs": [],
   "source": [
    "handle = Entrez.esearch(db=\"Taxonomy\", term=\"Cicadellidae\")"
   ]
  },
  {
   "cell_type": "code",
   "execution_count": 290,
   "metadata": {},
   "outputs": [],
   "source": [
    "record = Entrez.read(handle)"
   ]
  },
  {
   "cell_type": "code",
   "execution_count": 291,
   "metadata": {},
   "outputs": [
    {
     "data": {
      "text/plain": [
       "{'Count': '1', 'RetMax': '1', 'RetStart': '0', 'IdList': ['30102'], 'TranslationSet': [], 'TranslationStack': [{'Term': 'Cicadellidae[All Names]', 'Field': 'All Names', 'Count': '1', 'Explode': 'N'}, 'GROUP'], 'QueryTranslation': 'Cicadellidae[All Names]'}"
      ]
     },
     "execution_count": 291,
     "metadata": {},
     "output_type": "execute_result"
    }
   ],
   "source": [
    "record"
   ]
  },
  {
   "cell_type": "code",
   "execution_count": 296,
   "metadata": {},
   "outputs": [],
   "source": [
    "handle = Entrez.efetch(db=\"Taxonomy\", id=\"30102\", retmode=\"xml\")\n",
    "records = Entrez.read(handle)"
   ]
  },
  {
   "cell_type": "code",
   "execution_count": 297,
   "metadata": {},
   "outputs": [
    {
     "data": {
      "text/plain": [
       "[{'TaxId': '30102', 'ScientificName': 'Cicadellidae', 'OtherNames': {'CommonName': [], 'Acronym': [], 'Teleomorph': [], 'Misspelling': [], 'GenbankSynonym': [], 'Name': [], 'EquivalentName': [], 'Includes': [], 'Anamorph': [], 'GenbankAnamorph': [], 'Inpart': [], 'Misnomer': [], 'Synonym': ['Jassidae'], 'GenbankCommonName': 'leafhoppers'}, 'ParentTaxId': '33368', 'Rank': 'family', 'Division': 'Invertebrates', 'GeneticCode': {'GCId': '1', 'GCName': 'Standard'}, 'MitoGeneticCode': {'MGCId': '5', 'MGCName': 'Invertebrate Mitochondrial'}, 'Lineage': 'cellular organisms; Eukaryota; Opisthokonta; Metazoa; Eumetazoa; Bilateria; Protostomia; Ecdysozoa; Panarthropoda; Arthropoda; Mandibulata; Pancrustacea; Hexapoda; Insecta; Dicondylia; Pterygota; Neoptera; Paraneoptera; Hemiptera; Auchenorrhyncha; Cicadomorpha; Membracoidea', 'LineageEx': [{'TaxId': '131567', 'ScientificName': 'cellular organisms', 'Rank': 'no rank'}, {'TaxId': '2759', 'ScientificName': 'Eukaryota', 'Rank': 'superkingdom'}, {'TaxId': '33154', 'ScientificName': 'Opisthokonta', 'Rank': 'clade'}, {'TaxId': '33208', 'ScientificName': 'Metazoa', 'Rank': 'kingdom'}, {'TaxId': '6072', 'ScientificName': 'Eumetazoa', 'Rank': 'clade'}, {'TaxId': '33213', 'ScientificName': 'Bilateria', 'Rank': 'clade'}, {'TaxId': '33317', 'ScientificName': 'Protostomia', 'Rank': 'clade'}, {'TaxId': '1206794', 'ScientificName': 'Ecdysozoa', 'Rank': 'clade'}, {'TaxId': '88770', 'ScientificName': 'Panarthropoda', 'Rank': 'clade'}, {'TaxId': '6656', 'ScientificName': 'Arthropoda', 'Rank': 'phylum'}, {'TaxId': '197563', 'ScientificName': 'Mandibulata', 'Rank': 'clade'}, {'TaxId': '197562', 'ScientificName': 'Pancrustacea', 'Rank': 'clade'}, {'TaxId': '6960', 'ScientificName': 'Hexapoda', 'Rank': 'subphylum'}, {'TaxId': '50557', 'ScientificName': 'Insecta', 'Rank': 'class'}, {'TaxId': '85512', 'ScientificName': 'Dicondylia', 'Rank': 'clade'}, {'TaxId': '7496', 'ScientificName': 'Pterygota', 'Rank': 'subclass'}, {'TaxId': '33340', 'ScientificName': 'Neoptera', 'Rank': 'infraclass'}, {'TaxId': '33342', 'ScientificName': 'Paraneoptera', 'Rank': 'cohort'}, {'TaxId': '7524', 'ScientificName': 'Hemiptera', 'Rank': 'order'}, {'TaxId': '1955247', 'ScientificName': 'Auchenorrhyncha', 'Rank': 'suborder'}, {'TaxId': '33365', 'ScientificName': 'Cicadomorpha', 'Rank': 'infraorder'}, {'TaxId': '33368', 'ScientificName': 'Membracoidea', 'Rank': 'superfamily'}], 'CreateDate': '1995/02/27 09:24:00', 'UpdateDate': '2017/06/14 10:56:24', 'PubDate': '1993/12/02 00:00:00'}]"
      ]
     },
     "execution_count": 297,
     "metadata": {},
     "output_type": "execute_result"
    }
   ],
   "source": [
    "records"
   ]
  },
  {
   "cell_type": "code",
   "execution_count": 288,
   "metadata": {},
   "outputs": [
    {
     "data": {
      "text/plain": [
       "0             Cicadellidae\n",
       "3            Blastobasidae\n",
       "4               Sophophora\n",
       "6           Brassica nigra\n",
       "7    Carduus pycnocephalus\n",
       "Name: taxon_name, dtype: object"
      ]
     },
     "execution_count": 288,
     "metadata": {},
     "output_type": "execute_result"
    }
   ],
   "source": [
    "df_f['taxon_name'][0:5]"
   ]
  },
  {
   "cell_type": "code",
   "execution_count": 17,
   "metadata": {
    "scrolled": true
   },
   "outputs": [
    {
     "data": {
      "text/plain": [
       "{'Actinopterygii',\n",
       " 'Amphibia',\n",
       " 'Animalia',\n",
       " 'Arachnida',\n",
       " 'Aves',\n",
       " 'Chromista',\n",
       " 'Fungi',\n",
       " 'Insecta',\n",
       " 'Mammalia',\n",
       " 'Mollusca',\n",
       " 'Plantae',\n",
       " 'Protozoa',\n",
       " 'Reptilia'}"
      ]
     },
     "execution_count": 17,
     "metadata": {},
     "output_type": "execute_result"
    }
   ],
   "source": [
    "set(df['iconic_taxon_name'])"
   ]
  },
  {
   "cell_type": "code",
   "execution_count": 17,
   "metadata": {
    "scrolled": true
   },
   "outputs": [
    {
     "data": {
      "text/plain": [
       "{'Actinopterygii',\n",
       " 'Amphibia',\n",
       " 'Animalia',\n",
       " 'Arachnida',\n",
       " 'Aves',\n",
       " 'Chromista',\n",
       " 'Fungi',\n",
       " 'Insecta',\n",
       " 'Mammalia',\n",
       " 'Mollusca',\n",
       " 'Plantae',\n",
       " 'Protozoa',\n",
       " 'Reptilia'}"
      ]
     },
     "execution_count": 17,
     "metadata": {},
     "output_type": "execute_result"
    }
   ],
   "source": [
    "set(df['iconic_taxon_name'])"
   ]
  },
  {
   "cell_type": "code",
   "execution_count": 147,
   "metadata": {},
   "outputs": [],
   "source": [
    "df_taxons = df_f.groupby(['user_id', 'taxon_name']).agg('id').count().reset_index()\n",
    "df_taxons = df_taxons.pivot(index='user_id',columns='taxon_name',values='id')\n",
    "df_taxons = df_taxons.fillna(0)"
   ]
  },
  {
   "cell_type": "code",
   "execution_count": 149,
   "metadata": {},
   "outputs": [],
   "source": [
    "scaler = StandardScaler()\n",
    "taxons_scaled = scaler.fit_transform(df_taxons)"
   ]
  },
  {
   "cell_type": "code",
   "execution_count": 150,
   "metadata": {},
   "outputs": [],
   "source": [
    "pca = PCA(n_components=20)\n",
    "principalComponents = pca.fit_transform(taxons_scaled)"
   ]
  },
  {
   "cell_type": "code",
   "execution_count": 152,
   "metadata": {},
   "outputs": [
    {
     "data": {
      "text/plain": [
       "([<matplotlib.axis.XTick at 0x20a9b4c6e48>,\n",
       "  <matplotlib.axis.XTick at 0x20a9c63a0f0>,\n",
       "  <matplotlib.axis.XTick at 0x20a9c635cf8>,\n",
       "  <matplotlib.axis.XTick at 0x20a9b2eeeb8>,\n",
       "  <matplotlib.axis.XTick at 0x20a9b2ee588>,\n",
       "  <matplotlib.axis.XTick at 0x20a9b2fcdd8>,\n",
       "  <matplotlib.axis.XTick at 0x20a9b2fc860>,\n",
       "  <matplotlib.axis.XTick at 0x20a9b2ee7f0>,\n",
       "  <matplotlib.axis.XTick at 0x20a9b2fc470>,\n",
       "  <matplotlib.axis.XTick at 0x20a9b2fcd30>,\n",
       "  <matplotlib.axis.XTick at 0x20a9b3278d0>,\n",
       "  <matplotlib.axis.XTick at 0x20a9b327a90>,\n",
       "  <matplotlib.axis.XTick at 0x20a9b349860>,\n",
       "  <matplotlib.axis.XTick at 0x20a9b3496a0>,\n",
       "  <matplotlib.axis.XTick at 0x20a9b349fd0>,\n",
       "  <matplotlib.axis.XTick at 0x20a9b31e710>,\n",
       "  <matplotlib.axis.XTick at 0x20a9b327eb8>,\n",
       "  <matplotlib.axis.XTick at 0x20a9b2fc358>,\n",
       "  <matplotlib.axis.XTick at 0x20a9b31e0b8>,\n",
       "  <matplotlib.axis.XTick at 0x20a9b31eeb8>],\n",
       " [Text(0, 0, ''),\n",
       "  Text(0, 0, ''),\n",
       "  Text(0, 0, ''),\n",
       "  Text(0, 0, ''),\n",
       "  Text(0, 0, ''),\n",
       "  Text(0, 0, ''),\n",
       "  Text(0, 0, ''),\n",
       "  Text(0, 0, ''),\n",
       "  Text(0, 0, ''),\n",
       "  Text(0, 0, ''),\n",
       "  Text(0, 0, ''),\n",
       "  Text(0, 0, ''),\n",
       "  Text(0, 0, ''),\n",
       "  Text(0, 0, ''),\n",
       "  Text(0, 0, ''),\n",
       "  Text(0, 0, ''),\n",
       "  Text(0, 0, ''),\n",
       "  Text(0, 0, ''),\n",
       "  Text(0, 0, ''),\n",
       "  Text(0, 0, '')])"
      ]
     },
     "execution_count": 152,
     "metadata": {},
     "output_type": "execute_result"
    },
    {
     "data": {
      "image/png": "[encoded data removed]",
      "text/plain": [
       "<Figure size 432x288 with 1 Axes>"
      ]
     },
     "metadata": {
      "image/png": {
       "height": 285,
       "width": 445
      }
     },
     "output_type": "display_data"
    }
   ],
   "source": [
    "%config InlineBackend.figure_format='retina'\n",
    "features = range(pca.n_components_)\n",
    "plt.bar(features, pca.explained_variance_ratio_, color='black')\n",
    "plt.xlabel('PCA features')\n",
    "plt.ylabel('variance %')\n",
    "plt.xticks(features)"
   ]
  },
  {
   "cell_type": "code",
   "execution_count": 154,
   "metadata": {},
   "outputs": [],
   "source": [
    "PCA_components = pd.DataFrame(principalComponents)"
   ]
  },
  {
   "cell_type": "code",
   "execution_count": 155,
   "metadata": {},
   "outputs": [
    {
     "data": {
      "text/plain": [
       "Text(0, 0.5, 'PCA 2')"
      ]
     },
     "execution_count": 155,
     "metadata": {},
     "output_type": "execute_result"
    },
    {
     "data": {
      "image/png": "[encoded data removed]",
      "text/plain": [
       "<Figure size 432x288 with 1 Axes>"
      ]
     },
     "metadata": {
      "image/png": {
       "height": 285,
       "width": 443
      }
     },
     "output_type": "display_data"
    }
   ],
   "source": [
    "plt.scatter(PCA_components[0], PCA_components[1], alpha=.1, color='black')\n",
    "plt.xlabel('PCA 1')\n",
    "plt.ylabel('PCA 2')"
   ]
  },
  {
   "cell_type": "code",
   "execution_count": 73,
   "metadata": {},
   "outputs": [],
   "source": [
    "temp = df_f.groupby(['user_id', 'iconic_taxon_name']).agg('id').count().reset_index()\n",
    "wide_cross = temp.pivot(index='user_id',columns='iconic_taxon_name',values='id')\n",
    "wide_cross = wide_cross.fillna(0)"
   ]
  },
  {
   "cell_type": "code",
   "execution_count": 79,
   "metadata": {},
   "outputs": [],
   "source": [
    "scaler = StandardScaler()\n",
    "scaled_features = scaler.fit_transform(wide_cross)"
   ]
  },
  {
   "cell_type": "code",
   "execution_count": 80,
   "metadata": {},
   "outputs": [
    {
     "data": {
      "text/plain": [
       "array([[-0.2447451 ,  0.19843374, -0.18239509, ...,  1.47060489,\n",
       "        -0.27657633, -0.50725316],\n",
       "       [ 1.75400659,  0.19843374,  1.24758241, ...,  0.78050352,\n",
       "        -0.27657633,  0.36486631],\n",
       "       [-0.2447451 , -0.39992031, -0.32539284, ...,  0.03444797,\n",
       "        -0.27657633, -0.50725316],\n",
       "       ...,\n",
       "       [-0.2447451 , -0.39992031, -0.18239509, ..., -0.54374507,\n",
       "        -0.27657633, -0.50725316],\n",
       "       [-0.2447451 , -0.39992031, -0.32539284, ..., -0.48779091,\n",
       "        -0.27657633, -0.50725316],\n",
       "       [-0.2447451 , -0.39992031, -0.32539284, ..., -0.20802008,\n",
       "        -0.27657633, -0.50725316]])"
      ]
     },
     "execution_count": 80,
     "metadata": {},
     "output_type": "execute_result"
    }
   ],
   "source": [
    "scaled_features"
   ]
  },
  {
   "cell_type": "code",
   "execution_count": 81,
   "metadata": {},
   "outputs": [],
   "source": [
    "kmeans_kwargs = {\n",
    "    \"init\": \"random\",\n",
    "    \"n_init\": 10,\n",
    "    \"max_iter\": 300,\n",
    "    \"random_state\": 42,\n",
    "}\n",
    "\n",
    "# A list holds the SSE values for each k\n",
    "sse = []\n",
    "for k in range(1, 11):\n",
    "    kmeans = KMeans(n_clusters=k, **kmeans_kwargs)\n",
    "    kmeans.fit(scaled_features)\n",
    "    sse.append(kmeans.inertia_)"
   ]
  },
  {
   "cell_type": "code",
   "execution_count": 82,
   "metadata": {},
   "outputs": [
    {
     "data": {
      "image/png": "[encoded data removed]",
      "text/plain": [
       "<Figure size 432x288 with 1 Axes>"
      ]
     },
     "metadata": {},
     "output_type": "display_data"
    }
   ],
   "source": [
    " plt.style.use(\"fivethirtyeight\")\n",
    " plt.plot(range(1, 11), sse)\n",
    " plt.xticks(range(1, 11))\n",
    " plt.xlabel(\"Number of Clusters\")\n",
    " plt.ylabel(\"SSE\")\n",
    " plt.show()"
   ]
  },
  {
   "cell_type": "code",
   "execution_count": 83,
   "metadata": {},
   "outputs": [
    {
     "data": {
      "text/plain": [
       "3"
      ]
     },
     "execution_count": 83,
     "metadata": {},
     "output_type": "execute_result"
    }
   ],
   "source": [
    "kl = KneeLocator(\n",
    "    range(1, 11), sse, curve=\"convex\", direction=\"decreasing\"\n",
    ")\n",
    "\n",
    "kl.elbow"
   ]
  },
  {
   "cell_type": "code",
   "execution_count": 84,
   "metadata": {},
   "outputs": [],
   "source": [
    "kmeans = KMeans(\n",
    "    init=\"random\",\n",
    "    n_clusters=3,\n",
    "    n_init=10,\n",
    "    max_iter=300,\n",
    "    random_state=42\n",
    ")"
   ]
  },
  {
   "cell_type": "code",
   "execution_count": 85,
   "metadata": {},
   "outputs": [
    {
     "data": {
      "text/plain": [
       "KMeans(algorithm='auto', copy_x=True, init='random', max_iter=300,\n",
       "    n_clusters=3, n_init=10, n_jobs=1, precompute_distances='auto',\n",
       "    random_state=42, tol=0.0001, verbose=0)"
      ]
     },
     "execution_count": 85,
     "metadata": {},
     "output_type": "execute_result"
    }
   ],
   "source": [
    "kmeans.fit(scaled_features)"
   ]
  },
  {
   "cell_type": "code",
   "execution_count": 133,
   "metadata": {},
   "outputs": [],
   "source": [
    "users_clusters = pd.DataFrame({'user_id': np.array(wide_cross.index), 'cluster': kmeans.labels_}, columns=['user_id', 'cluster'])"
   ]
  },
  {
   "cell_type": "code",
   "execution_count": 129,
   "metadata": {},
   "outputs": [],
   "source": [
    "users_act = df_f.groupby(['user_id', 'iconic_taxon_name']).agg('id').count().reset_index()"
   ]
  },
  {
   "cell_type": "code",
   "execution_count": 134,
   "metadata": {},
   "outputs": [],
   "source": [
    "users_clusters = users_clusters.merge(users_act, on = 'user_id', how = 'left')"
   ]
  },
  {
   "cell_type": "code",
   "execution_count": 188,
   "metadata": {},
   "outputs": [],
   "source": [
    "specs = []\n",
    "for i in set(df_f['user_id']):\n",
    "    df_filt = df_f[df_f['user_id'] == i]\n",
    "    spec = df_filt['taxon_name'].tolist()\n",
    "    spec_cl = [x for x in spec if str(x) != 'nan']\n",
    "    specs.append(spec_cl)"
   ]
  },
  {
   "cell_type": "code",
   "execution_count": 205,
   "metadata": {},
   "outputs": [
    {
     "data": {
      "text/plain": [
       "110.25510204081633"
      ]
     },
     "execution_count": 205,
     "metadata": {},
     "output_type": "execute_result"
    }
   ],
   "source": [
    "lens =[len(s) for s in specs]\n",
    "np.mean(lens)"
   ]
  },
  {
   "cell_type": "code",
   "execution_count": 192,
   "metadata": {},
   "outputs": [],
   "source": [
    "model = Word2Vec(specs, min_count=1)"
   ]
  },
  {
   "cell_type": "code",
   "execution_count": 195,
   "metadata": {},
   "outputs": [
    {
     "name": "stderr",
     "output_type": "stream",
     "text": [
      "c:\\program files\\python36\\lib\\site-packages\\ipykernel_launcher.py:1: DeprecationWarning: Call to deprecated `__getitem__` (Method will be removed in 4.0.0, use self.wv.__getitem__() instead).\n",
      "  \"\"\"Entry point for launching an IPython kernel.\n"
     ]
    }
   ],
   "source": [
    "X = model[model.wv.vocab]"
   ]
  },
  {
   "cell_type": "code",
   "execution_count": 200,
   "metadata": {
    "scrolled": true
   },
   "outputs": [
    {
     "name": "stdout",
     "output_type": "stream",
     "text": [
      "0.9918928\n"
     ]
    },
    {
     "name": "stderr",
     "output_type": "stream",
     "text": [
      "c:\\program files\\python36\\lib\\site-packages\\ipykernel_launcher.py:1: DeprecationWarning: Call to deprecated `similarity` (Method will be removed in 4.0.0, use self.wv.similarity() instead).\n",
      "  \"\"\"Entry point for launching an IPython kernel.\n"
     ]
    }
   ],
   "source": [
    "print(model.similarity(specs[1][1], specs[5][7]))"
   ]
  },
  {
   "cell_type": "code",
   "execution_count": 232,
   "metadata": {},
   "outputs": [
    {
     "data": {
      "text/plain": [
       "0                 Cicadellidae\n",
       "3                Blastobasidae\n",
       "4                   Sophophora\n",
       "6               Brassica nigra\n",
       "7        Carduus pycnocephalus\n",
       "8             Conium maculatum\n",
       "9     Scrophularia californica\n",
       "10       Corvus brachyrhynchos\n",
       "11              Cornu aspersum\n",
       "12              Cornu aspersum\n",
       "Name: taxon_name, dtype: object"
      ]
     },
     "execution_count": 232,
     "metadata": {},
     "output_type": "execute_result"
    }
   ],
   "source": [
    "df_f['taxon_name'][0:10]"
   ]
  },
  {
   "cell_type": "code",
   "execution_count": 233,
   "metadata": {},
   "outputs": [
    {
     "name": "stderr",
     "output_type": "stream",
     "text": [
      "c:\\program files\\python36\\lib\\site-packages\\ipykernel_launcher.py:1: DeprecationWarning: Call to deprecated `most_similar` (Method will be removed in 4.0.0, use self.wv.most_similar() instead).\n",
      "  \"\"\"Entry point for launching an IPython kernel.\n"
     ]
    },
    {
     "data": {
      "text/plain": [
       "[('Calypte anna', 0.99888014793396),\n",
       " ('Haemorhous mexicanus', 0.9988642930984497),\n",
       " ('Junco hyemalis', 0.9986411333084106),\n",
       " ('Zenaida macroura', 0.9982700943946838),\n",
       " ('Melozone crissalis', 0.9981430172920227),\n",
       " ('Aphelocoma californica', 0.9981343150138855),\n",
       " ('Sayornis nigricans', 0.9981138706207275),\n",
       " ('Anas platyrhynchos', 0.998091459274292),\n",
       " ('Egretta thula', 0.9979921579360962),\n",
       " ('Phalacrocorax auritus', 0.9979863166809082)]"
      ]
     },
     "execution_count": 233,
     "metadata": {},
     "output_type": "execute_result"
    }
   ],
   "source": [
    "model.most_similar([\"Corvus brachyrhynchos\"])"
   ]
  },
  {
   "cell_type": "code",
   "execution_count": 220,
   "metadata": {},
   "outputs": [],
   "source": [
    "kmeans_kwargs = {\n",
    "    \"init\": \"random\",\n",
    "    \"n_init\": 10,\n",
    "    \"max_iter\": 300,\n",
    "    \"random_state\": 42,\n",
    "}\n",
    "\n",
    "sse = []\n",
    "for k in range(1, 11):\n",
    "    kmeans = KMeans(n_clusters=k, **kmeans_kwargs)\n",
    "    kmeans.fit(X)\n",
    "    sse.append(kmeans.inertia_)"
   ]
  },
  {
   "cell_type": "code",
   "execution_count": 221,
   "metadata": {
    "scrolled": true
   },
   "outputs": [
    {
     "data": {
      "image/png": "[encoded data removed]",
      "text/plain": [
       "<Figure size 432x288 with 1 Axes>"
      ]
     },
     "metadata": {
      "image/png": {
       "height": 285,
       "width": 432
      }
     },
     "output_type": "display_data"
    }
   ],
   "source": [
    " plt.style.use(\"fivethirtyeight\")\n",
    " plt.plot(range(1, 11), sse)\n",
    " plt.xticks(range(1, 11))\n",
    " plt.xlabel(\"Number of Clusters\")\n",
    " plt.ylabel(\"SSE\")\n",
    " plt.show()"
   ]
  },
  {
   "cell_type": "code",
   "execution_count": 222,
   "metadata": {},
   "outputs": [
    {
     "data": {
      "text/plain": [
       "3"
      ]
     },
     "execution_count": 222,
     "metadata": {},
     "output_type": "execute_result"
    }
   ],
   "source": [
    "kl = KneeLocator(\n",
    "    range(1, 11), sse, curve=\"convex\", direction=\"decreasing\"\n",
    ")\n",
    "\n",
    "kl.elbow"
   ]
  },
  {
   "cell_type": "code",
   "execution_count": 223,
   "metadata": {},
   "outputs": [],
   "source": [
    "kmeans = KMeans(\n",
    "    init=\"random\",\n",
    "    n_clusters=3,\n",
    "    n_init=10,\n",
    "    max_iter=300,\n",
    "    random_state=42\n",
    ")"
   ]
  },
  {
   "cell_type": "code",
   "execution_count": 224,
   "metadata": {},
   "outputs": [
    {
     "data": {
      "text/plain": [
       "KMeans(algorithm='auto', copy_x=True, init='random', max_iter=300,\n",
       "    n_clusters=3, n_init=10, n_jobs=1, precompute_distances='auto',\n",
       "    random_state=42, tol=0.0001, verbose=0)"
      ]
     },
     "execution_count": 224,
     "metadata": {},
     "output_type": "execute_result"
    }
   ],
   "source": [
    "kmeans.fit(X)"
   ]
  },
  {
   "cell_type": "code",
   "execution_count": 225,
   "metadata": {},
   "outputs": [
    {
     "data": {
      "text/plain": [
       "array([0, 1, 0, ..., 0, 0, 0])"
      ]
     },
     "execution_count": 225,
     "metadata": {},
     "output_type": "execute_result"
    }
   ],
   "source": [
    "kmeans.labels_"
   ]
  },
  {
   "cell_type": "code",
   "execution_count": 234,
   "metadata": {},
   "outputs": [],
   "source": [
    "w2v_vectors = model.wv.vectors"
   ]
  },
  {
   "cell_type": "code",
   "execution_count": 236,
   "metadata": {},
   "outputs": [],
   "source": [
    "w2v_indices = {word: model.wv.vocab[word].index for word in model.wv.vocab}"
   ]
  },
  {
   "cell_type": "code",
   "execution_count": 239,
   "metadata": {},
   "outputs": [],
   "source": [
    "def vectorize(line): \n",
    "    words = []\n",
    "    for word in line: # line - iterable, for example list of tokens \n",
    "        try:\n",
    "            w2v_idx = w2v_indices[word]\n",
    "        except KeyError: # if you does not have a vector for this word in your w2v model, continue \n",
    "            continue\n",
    "        words.append(w2v_vectors[w2v_idx])\n",
    "        if words: \n",
    "            words = np.asarray(words)\n",
    "            min_vec = words.min(axis=0)\n",
    "            max_vec = words.max(axis=0)\n",
    "            return np.concatenate((min_vec, max_vec))\n",
    "        if not words:\n",
    "            return None "
   ]
  },
  {
   "cell_type": "code",
   "execution_count": 273,
   "metadata": {},
   "outputs": [
    {
     "data": {
      "text/plain": [
       "array([ 3.6695271e-03, -2.7862608e-03,  3.6105997e-04, -7.4896780e-03,\n",
       "       -5.3076237e-03, -1.8150086e-03, -1.5051538e-03, -9.7644208e-03,\n",
       "        2.0787821e-03,  4.4959484e-04, -5.3621838e-03, -5.0769141e-03,\n",
       "        2.6090250e-03,  3.7617625e-03,  4.8260004e-03, -3.7780334e-03,\n",
       "        2.2845999e-03, -2.6746615e-04,  6.3860156e-03, -1.4045956e-02,\n",
       "       -6.8647356e-04, -6.5421448e-03,  6.1484044e-03,  8.5573085e-03,\n",
       "       -2.2248439e-03,  1.5472625e-03,  7.1541579e-03,  3.3680582e-03,\n",
       "        6.7321979e-03, -6.6867131e-03, -1.6695793e-03, -4.3073725e-03,\n",
       "        1.8323712e-03, -1.3500860e-05, -1.0232343e-03,  4.0272818e-04,\n",
       "       -1.6181794e-03, -4.3155481e-03,  1.9986618e-03,  7.8090705e-04,\n",
       "       -1.2636175e-03,  1.4332603e-03,  3.7349230e-03,  5.2894200e-03,\n",
       "        2.2502816e-03,  2.4437509e-03,  1.8390833e-04,  4.4450182e-03,\n",
       "       -4.2424368e-04, -3.0328177e-03, -1.4811006e-03, -4.5892871e-03,\n",
       "       -6.1478675e-04, -1.0179095e-02, -8.4789604e-04, -1.1962984e-02,\n",
       "       -2.8219074e-03,  8.6415559e-04,  4.9200151e-03,  4.3271170e-03,\n",
       "        5.9881671e-03, -1.1044247e-03,  3.2814152e-03,  4.3077604e-03,\n",
       "        2.2028289e-03, -1.4629873e-02, -1.7213100e-03,  1.0296517e-02,\n",
       "       -3.8797101e-03, -6.9233420e-04,  5.1537943e-03, -4.3814639e-03,\n",
       "        2.1724128e-03, -3.1976057e-03, -3.1884592e-03, -3.8503050e-03,\n",
       "        8.0386652e-03,  3.9524441e-03, -4.7996822e-03,  7.1956692e-03,\n",
       "       -4.0718410e-03, -3.9603948e-03,  2.4254655e-03,  5.1906551e-03,\n",
       "       -4.4313250e-03,  5.1198658e-03, -4.6723331e-03,  7.7754273e-03,\n",
       "       -6.3689955e-04,  1.8255198e-03, -2.4937533e-03,  7.4213524e-03,\n",
       "        1.0429773e-02,  7.7478057e-03,  5.7306755e-03, -2.4773628e-03,\n",
       "        1.7340879e-03, -7.9028308e-04,  4.9995682e-03, -7.1153621e-04,\n",
       "        3.6695271e-03, -2.7862608e-03,  3.6105997e-04, -7.4896780e-03,\n",
       "       -5.3076237e-03, -1.8150086e-03, -1.5051538e-03, -9.7644208e-03,\n",
       "        2.0787821e-03,  4.4959484e-04, -5.3621838e-03, -5.0769141e-03,\n",
       "        2.6090250e-03,  3.7617625e-03,  4.8260004e-03, -3.7780334e-03,\n",
       "        2.2845999e-03, -2.6746615e-04,  6.3860156e-03, -1.4045956e-02,\n",
       "       -6.8647356e-04, -6.5421448e-03,  6.1484044e-03,  8.5573085e-03,\n",
       "       -2.2248439e-03,  1.5472625e-03,  7.1541579e-03,  3.3680582e-03,\n",
       "        6.7321979e-03, -6.6867131e-03, -1.6695793e-03, -4.3073725e-03,\n",
       "        1.8323712e-03, -1.3500860e-05, -1.0232343e-03,  4.0272818e-04,\n",
       "       -1.6181794e-03, -4.3155481e-03,  1.9986618e-03,  7.8090705e-04,\n",
       "       -1.2636175e-03,  1.4332603e-03,  3.7349230e-03,  5.2894200e-03,\n",
       "        2.2502816e-03,  2.4437509e-03,  1.8390833e-04,  4.4450182e-03,\n",
       "       -4.2424368e-04, -3.0328177e-03, -1.4811006e-03, -4.5892871e-03,\n",
       "       -6.1478675e-04, -1.0179095e-02, -8.4789604e-04, -1.1962984e-02,\n",
       "       -2.8219074e-03,  8.6415559e-04,  4.9200151e-03,  4.3271170e-03,\n",
       "        5.9881671e-03, -1.1044247e-03,  3.2814152e-03,  4.3077604e-03,\n",
       "        2.2028289e-03, -1.4629873e-02, -1.7213100e-03,  1.0296517e-02,\n",
       "       -3.8797101e-03, -6.9233420e-04,  5.1537943e-03, -4.3814639e-03,\n",
       "        2.1724128e-03, -3.1976057e-03, -3.1884592e-03, -3.8503050e-03,\n",
       "        8.0386652e-03,  3.9524441e-03, -4.7996822e-03,  7.1956692e-03,\n",
       "       -4.0718410e-03, -3.9603948e-03,  2.4254655e-03,  5.1906551e-03,\n",
       "       -4.4313250e-03,  5.1198658e-03, -4.6723331e-03,  7.7754273e-03,\n",
       "       -6.3689955e-04,  1.8255198e-03, -2.4937533e-03,  7.4213524e-03,\n",
       "        1.0429773e-02,  7.7478057e-03,  5.7306755e-03, -2.4773628e-03,\n",
       "        1.7340879e-03, -7.9028308e-04,  4.9995682e-03, -7.1153621e-04],\n",
       "      dtype=float32)"
      ]
     },
     "execution_count": 273,
     "metadata": {},
     "output_type": "execute_result"
    }
   ],
   "source": [
    "vectorize(specs[0][0:3])"
   ]
  },
  {
   "cell_type": "code",
   "execution_count": 272,
   "metadata": {},
   "outputs": [
    {
     "data": {
      "text/plain": [
       "['Blastobasidae', 'Erodium botrys', 'Euphydryas']"
      ]
     },
     "execution_count": 272,
     "metadata": {},
     "output_type": "execute_result"
    }
   ],
   "source": [
    "specs[0][0:3]"
   ]
  },
  {
   "cell_type": "code",
   "execution_count": 251,
   "metadata": {},
   "outputs": [],
   "source": [
    "w2v_idx = w2v_indices[specs[0][0]]"
   ]
  },
  {
   "cell_type": "code",
   "execution_count": 261,
   "metadata": {},
   "outputs": [],
   "source": [
    "words = w2v_vectors[w2v_idx]\n",
    "words = np.asarray(words)"
   ]
  },
  {
   "cell_type": "code",
   "execution_count": 264,
   "metadata": {},
   "outputs": [
    {
     "data": {
      "text/plain": [
       "0.010429773"
      ]
     },
     "execution_count": 264,
     "metadata": {},
     "output_type": "execute_result"
    }
   ],
   "source": [
    "words.max(axis=0)"
   ]
  }
 ],
 "metadata": {
  "kernelspec": {
   "display_name": "Python 3",
   "language": "python",
   "name": "python3"
  },
  "language_info": {
   "codemirror_mode": {
    "name": "ipython",
    "version": 3
   },
   "file_extension": ".py",
   "mimetype": "text/x-python",
   "name": "python",
   "nbconvert_exporter": "python",
   "pygments_lexer": "ipython3",
   "version": "3.6.1"
  }
 },
 "nbformat": 4,
 "nbformat_minor": 2
}
