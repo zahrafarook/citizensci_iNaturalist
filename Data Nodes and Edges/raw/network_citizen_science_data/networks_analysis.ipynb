{
 "cells": [
  {
   "cell_type": "code",
   "execution_count": 1,
   "metadata": {},
   "outputs": [],
   "source": [
    "import pandas as pd\n",
    "import networkx as nx\n",
    "import numpy as np\n",
    "import math\n",
    "import os\n",
    "import matplotlib.pyplot as plt\n",
    "import scipy.stats\n",
    "from datetime import datetime"
   ]
  },
  {
   "cell_type": "code",
   "execution_count": 2,
   "metadata": {},
   "outputs": [],
   "source": [
    "# uploading datasets for 2019\n",
    "sf_2019 = pd.read_csv('CNC_San_Francisco_2019.csv')\n",
    "london_2019 = pd.read_csv('CNC_London_2019.csv')\n",
    "la_2019 = pd.read_csv('CNC_Los_Angeles_2019.csv')"
   ]
  },
  {
   "cell_type": "code",
   "execution_count": 317,
   "metadata": {},
   "outputs": [],
   "source": [
    "# df_net['year'] = pd.to_datetime(df_net['created_at'], utc = True).dt.to_period('M')"
   ]
  },
  {
   "cell_type": "code",
   "execution_count": 3,
   "metadata": {},
   "outputs": [],
   "source": [
    "def bipartite_net_make(df, min_weight = 2):\n",
    "    \"\"\"\n",
    "    The function returns a biaprtite network with the two types of nodes: observations and \n",
    "    actions (changes made by other users of INaturalist)\n",
    "    \n",
    "    Arguments:\n",
    "    - df -- dataframe\n",
    "    - min_weight - minimal weight of an edge between nodes\n",
    "    \"\"\"\n",
    "    \n",
    "    df_net = pd.DataFrame()\n",
    "    \n",
    "    for _, row in df.iterrows():\n",
    "        idents = row['identifications']\n",
    "        if pd.isnull(idents) == False:\n",
    "            df_temp = pd.DataFrame(eval(idents))\n",
    "            df_temp['target'] = np.repeat(row['user_id'], df_temp.shape[0])\n",
    "            df_net = df_net.append(df_temp)\n",
    "        \n",
    "    edges = pd.DataFrame(df_net[['user_id', 'target']])\n",
    "    \n",
    "    # removing loops\n",
    "    edges['temp'] = np.array(edges['user_id']) == np.array(edges['target'])\n",
    "    edges = edges[edges['temp'] == False]\n",
    "    edges = edges.drop(['temp'], axis = 1)\n",
    "    \n",
    "    # removing edges based on the chosen threshold\n",
    "    edges['weight'] = 1\n",
    "    edges = edges.groupby(by=['user_id', 'target']).sum().reset_index()\n",
    "    edges = edges[edges['weight'] >= min_weight]\n",
    "    \n",
    "    bipartite_G = nx.Graph()\n",
    "\n",
    "    for r, d in edges.iterrows():\n",
    "        pid = 'P{0}'.format(d['user_id']) \n",
    "        cid = 'C{0}'.format(d['target'])  \n",
    "        bipartite_G.add_node(pid, bipartite='action')\n",
    "        bipartite_G.add_node(cid, bipartite='observation')\n",
    "        bipartite_G.add_edge(pid, cid)\n",
    "        \n",
    "    return bipartite_G"
   ]
  },
  {
   "cell_type": "code",
   "execution_count": 4,
   "metadata": {},
   "outputs": [],
   "source": [
    "def projection_make(bip_net, projection = 'action'):\n",
    "    \"\"\"\n",
    "    The function returns a projection of a bipartite network \n",
    "    \n",
    "    Arguments:\n",
    "    \n",
    "    - bip_net -- bipartite networks\n",
    "    - projection (observation or action) -- in the case of 'action', the function returns a network where users are\n",
    "    connected based on the common observations (they were working on); 'observation'  returns a network of \n",
    "    observations having a common list of collaborators\n",
    "    \"\"\"\n",
    "    \n",
    "    if projection == 'action':\n",
    "        action_nodes = [node for node in bip_net.nodes() if bip_net.nodes[node]['bipartite'] == 'action']\n",
    "        actions_graph = nx.bipartite.projection.projected_graph(bip_net, action_nodes)\n",
    "        \n",
    "        return actions_graph\n",
    "    \n",
    "    elif projection == 'observation':\n",
    "        observation_nodes = [node for node in bip_net.nodes() if bip_net.nodes[node]['bipartite'] == 'observation']\n",
    "        observations_graph = nx.bipartite.projection.projected_graph(bip_net, observation_nodes)\n",
    "        \n",
    "        return observations_graph"
   ]
  },
  {
   "cell_type": "code",
   "execution_count": 132,
   "metadata": {},
   "outputs": [],
   "source": [
    "def descriptive_net_analysis(net):\n",
    "    \n",
    "    \"\"\"\n",
    "    The function returns basic descriptive characteristics of a net\n",
    "    \"\"\"\n",
    "    \n",
    "    nodes = net.number_of_nodes()\n",
    "    edges = net.number_of_edges()\n",
    "    density = nx.density(net)\n",
    "    \n",
    "    beetweenness = nx.betweenness_centrality(net)\n",
    "    avg_beetw = np.mean(list(beetweenness.values()))\n",
    "    sd_beetw = np.std(list(beetweenness.values()))\n",
    "    \n",
    "    degree = nx.degree_centrality(net)\n",
    "    avg_degree = np.mean(list(degree.values()))\n",
    "    sd_degree = np.std(list(degree.values()))\n",
    "    \n",
    "    clustering_coef = nx.average_clustering(net)\n",
    "    \n",
    "    print(\"number of nodes: {}, number of edges: {}\".format(nodes, edges))\n",
    "    print(\"density of the network: {0:.2f}\".format(density))\n",
    "    print(\"average beetweenness of the network: {}, sd: {}\".format(avg_beetw, sd_beetw))\n",
    "    print(\"average degree of the network: {}, sd: {}\".format(avg_degree, sd_degree))\n",
    "    print(\"clustering coefficient:\", clustering_coef)"
   ]
  },
  {
   "cell_type": "code",
   "execution_count": null,
   "metadata": {},
   "outputs": [],
   "source": [
    "# making bipartite networks from the dfs (can take some time)\n",
    "g_sf = bipartite_net_make(sf_2019, min_weight = 2)\n",
    "g_london = bipartite_net_make(london_2019, min_weight = 2)\n",
    "g_la = bipartite_net_make(la_2019, min_weight = 2)"
   ]
  },
  {
   "cell_type": "code",
   "execution_count": 128,
   "metadata": {},
   "outputs": [],
   "source": [
    "# making a projection for the London bipartite network\n",
    "london_proj = projection_make(g_london, projection = 'action')"
   ]
  },
  {
   "cell_type": "code",
   "execution_count": 129,
   "metadata": {
    "scrolled": true
   },
   "outputs": [
    {
     "name": "stdout",
     "output_type": "stream",
     "text": [
      "number of nodes: 206, number of edges: 7308\n",
      "density of the network: 0.34610466493014447\n",
      "average beetweenness of the network: 0.003176117712062328, sd: 0.010756374208345182\n",
      "average degree of the network: 0.3461046649301445, sd: 0.2584748125781289\n",
      "clustering coefficient: 0.9051918436132372\n"
     ]
    }
   ],
   "source": [
    "# London net characteristics\n",
    "descriptive_net_analysis(london_proj)"
   ]
  },
  {
   "cell_type": "code",
   "execution_count": 133,
   "metadata": {},
   "outputs": [],
   "source": [
    "# making a projection for the San Francisco bipartite network\n",
    "sf_proj = projection_make(g_sf, projection = 'action')"
   ]
  },
  {
   "cell_type": "code",
   "execution_count": 134,
   "metadata": {},
   "outputs": [
    {
     "name": "stdout",
     "output_type": "stream",
     "text": [
      "number of nodes: 666, number of edges: 26153\n",
      "density of the network: 0.12\n",
      "average beetweenness of the network: 0.0013451489355103825, sd: 0.006584434393223758\n",
      "average degree of the network: 0.11810156020682337, sd: 0.13695390689567652\n",
      "clustering coefficient: 0.8030974330380027\n"
     ]
    }
   ],
   "source": [
    "# San Francisco net characteristics\n",
    "descriptive_net_analysis(sf_proj)"
   ]
  },
  {
   "cell_type": "code",
   "execution_count": 60,
   "metadata": {},
   "outputs": [],
   "source": [
    "# making a projection for the Los Angeles bipartite network\n",
    "la_proj = projection_make(g_la, projection = 'action')"
   ]
  },
  {
   "cell_type": "code",
   "execution_count": 135,
   "metadata": {},
   "outputs": [
    {
     "name": "stdout",
     "output_type": "stream",
     "text": [
      "number of nodes: 612, number of edges: 35059\n",
      "density of the network: 0.19\n",
      "average beetweenness of the network: 0.0013377026733886754, sd: 0.004284953119000909\n",
      "average degree of the network: 0.18751537712739214, sd: 0.1801642093316199\n",
      "clustering coefficient: 0.808378623504858\n"
     ]
    }
   ],
   "source": [
    "# Los Angeles net characteristics\n",
    "descriptive_net_analysis(la_proj)"
   ]
  }
 ],
 "metadata": {
  "kernelspec": {
   "display_name": "Python 3",
   "language": "python",
   "name": "python3"
  },
  "language_info": {
   "codemirror_mode": {
    "name": "ipython",
    "version": 3
   },
   "file_extension": ".py",
   "mimetype": "text/x-python",
   "name": "python",
   "nbconvert_exporter": "python",
   "pygments_lexer": "ipython3",
   "version": "3.6.1"
  }
 },
 "nbformat": 4,
 "nbformat_minor": 2
}
