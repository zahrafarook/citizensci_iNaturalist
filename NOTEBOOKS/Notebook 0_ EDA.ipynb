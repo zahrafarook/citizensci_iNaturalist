{
 "cells": [
  {
   "cell_type": "markdown",
   "id": "seventh-johnson",
   "metadata": {},
   "source": [
    "# Observations per user in the CNCs"
   ]
  },
  {
   "cell_type": "code",
   "execution_count": 2,
   "id": "abd163b5",
   "metadata": {},
   "outputs": [],
   "source": [
    "import numpy as np\n",
    "import pandas as pd\n",
    "import matplotlib.pyplot as plt\n",
    "import matplotlib as mpl\n",
    "mpl.rcParams['figure.dpi'] = 150\n"
   ]
  },
  {
   "cell_type": "code",
   "execution_count": 3,
   "id": "naval-screw",
   "metadata": {},
   "outputs": [],
   "source": [
    "import pandas as pd\n",
    "\n",
    "# config\n",
    "cities_years = {\n",
    "    'London': [2018, 2019, 2020],\n",
    "    'Los_Angeles': [2018, 2019, 2020],\n",
    "    'San_Francisco': [2018, 2019, 2020]\n",
    "}"
   ]
  },
  {
   "cell_type": "code",
   "execution_count": 13,
   "id": "67eb7396",
   "metadata": {},
   "outputs": [],
   "source": [
    "path = 'C:\\\\Users\\\\User\\\\Downloads\\\\citizen_science_inaturalist-main\\\\data\\\\CNC_London_2018'"
   ]
  },
  {
   "cell_type": "code",
   "execution_count": 4,
   "id": "respective-mountain",
   "metadata": {},
   "outputs": [
    {
     "name": "stdout",
     "output_type": "stream",
     "text": [
      "Loading:  London 2018\n",
      "Loading:  London 2019\n",
      "Loading:  London 2020\n",
      "Loading:  Los_Angeles 2018\n"
     ]
    },
    {
     "name": "stderr",
     "output_type": "stream",
     "text": [
      "C:\\Users\\User\\AppData\\Local\\Temp\\ipykernel_23220\\2419813668.py:9: DtypeWarning: Columns (13) have mixed types. Specify dtype option on import or set low_memory=False.\n",
      "  df = pd.read_csv('C:\\\\Users\\\\User\\\\Downloads\\\\citizen_science_inaturalist-main\\\\data\\\\CNC_{}_{}.csv'.format(city, year))\n"
     ]
    },
    {
     "name": "stdout",
     "output_type": "stream",
     "text": [
      "Loading:  Los_Angeles 2019\n"
     ]
    },
    {
     "name": "stderr",
     "output_type": "stream",
     "text": [
      "C:\\Users\\User\\AppData\\Local\\Temp\\ipykernel_23220\\2419813668.py:9: DtypeWarning: Columns (13) have mixed types. Specify dtype option on import or set low_memory=False.\n",
      "  df = pd.read_csv('C:\\\\Users\\\\User\\\\Downloads\\\\citizen_science_inaturalist-main\\\\data\\\\CNC_{}_{}.csv'.format(city, year))\n"
     ]
    },
    {
     "name": "stdout",
     "output_type": "stream",
     "text": [
      "Loading:  Los_Angeles 2020\n",
      "Loading:  San_Francisco 2018\n",
      "Loading:  San_Francisco 2019\n",
      "Loading:  San_Francisco 2020\n"
     ]
    },
    {
     "data": {
      "text/html": [
       "<div>\n",
       "<style scoped>\n",
       "    .dataframe tbody tr th:only-of-type {\n",
       "        vertical-align: middle;\n",
       "    }\n",
       "\n",
       "    .dataframe tbody tr th {\n",
       "        vertical-align: top;\n",
       "    }\n",
       "\n",
       "    .dataframe thead th {\n",
       "        text-align: right;\n",
       "    }\n",
       "</style>\n",
       "<table border=\"1\" class=\"dataframe\">\n",
       "  <thead>\n",
       "    <tr style=\"text-align: right;\">\n",
       "      <th></th>\n",
       "      <th>id</th>\n",
       "      <th>observed_on_string</th>\n",
       "      <th>observed_on</th>\n",
       "      <th>time_observed_at</th>\n",
       "      <th>time_zone</th>\n",
       "      <th>user_id</th>\n",
       "      <th>user_login</th>\n",
       "      <th>created_at</th>\n",
       "      <th>updated_at</th>\n",
       "      <th>quality_grade</th>\n",
       "      <th>...</th>\n",
       "      <th>geoprivacy</th>\n",
       "      <th>taxon_geoprivacy</th>\n",
       "      <th>coordinates_obscured</th>\n",
       "      <th>positioning_method</th>\n",
       "      <th>positioning_device</th>\n",
       "      <th>species_guess</th>\n",
       "      <th>scientific_name</th>\n",
       "      <th>common_name</th>\n",
       "      <th>iconic_taxon_name</th>\n",
       "      <th>taxon_id</th>\n",
       "    </tr>\n",
       "  </thead>\n",
       "  <tbody>\n",
       "    <tr>\n",
       "      <th>0</th>\n",
       "      <td>11479007</td>\n",
       "      <td>2018-04-27 7:52:34 am BST</td>\n",
       "      <td>2018-04-27</td>\n",
       "      <td>2018-04-27 07:52:34 UTC</td>\n",
       "      <td>UTC</td>\n",
       "      <td>159021</td>\n",
       "      <td>muki</td>\n",
       "      <td>2018-04-27 07:06:17 UTC</td>\n",
       "      <td>2018-04-27 09:26:56 UTC</td>\n",
       "      <td>research</td>\n",
       "      <td>...</td>\n",
       "      <td>NaN</td>\n",
       "      <td>NaN</td>\n",
       "      <td>False</td>\n",
       "      <td>gps</td>\n",
       "      <td>gps</td>\n",
       "      <td>lesser celandine</td>\n",
       "      <td>Ficaria verna</td>\n",
       "      <td>lesser celandine</td>\n",
       "      <td>Plantae</td>\n",
       "      <td>204321.0</td>\n",
       "    </tr>\n",
       "    <tr>\n",
       "      <th>1</th>\n",
       "      <td>11480212</td>\n",
       "      <td>2018-04-27 8:39:41 am BST</td>\n",
       "      <td>2018-04-27</td>\n",
       "      <td>2018-04-27 07:39:41 UTC</td>\n",
       "      <td>London</td>\n",
       "      <td>664459</td>\n",
       "      <td>lucyrobinsonnhm</td>\n",
       "      <td>2018-04-27 08:02:52 UTC</td>\n",
       "      <td>2019-01-29 21:16:34 UTC</td>\n",
       "      <td>research</td>\n",
       "      <td>...</td>\n",
       "      <td>NaN</td>\n",
       "      <td>open</td>\n",
       "      <td>False</td>\n",
       "      <td>gps</td>\n",
       "      <td>gps</td>\n",
       "      <td>Pigeon biset domestique</td>\n",
       "      <td>Columba livia domestica</td>\n",
       "      <td>Feral Pigeon</td>\n",
       "      <td>Aves</td>\n",
       "      <td>122767.0</td>\n",
       "    </tr>\n",
       "    <tr>\n",
       "      <th>2</th>\n",
       "      <td>11480902</td>\n",
       "      <td>Fri Apr 27 2018 08:34:31 GMT+0100 (GMT+1)</td>\n",
       "      <td>2018-04-27</td>\n",
       "      <td>2018-04-27 06:34:31 UTC</td>\n",
       "      <td>Amsterdam</td>\n",
       "      <td>908315</td>\n",
       "      <td>tess26</td>\n",
       "      <td>2018-04-27 08:42:01 UTC</td>\n",
       "      <td>2018-04-27 11:01:49 UTC</td>\n",
       "      <td>casual</td>\n",
       "      <td>...</td>\n",
       "      <td>NaN</td>\n",
       "      <td>NaN</td>\n",
       "      <td>False</td>\n",
       "      <td>NaN</td>\n",
       "      <td>NaN</td>\n",
       "      <td>NaN</td>\n",
       "      <td>Hyacinthoides hispanica</td>\n",
       "      <td>Spanish Bluebell</td>\n",
       "      <td>Plantae</td>\n",
       "      <td>57635.0</td>\n",
       "    </tr>\n",
       "    <tr>\n",
       "      <th>3</th>\n",
       "      <td>11481097</td>\n",
       "      <td>Fri Apr 27 2018 09:54:35 GMT+0100 (GMT+1)</td>\n",
       "      <td>2018-04-27</td>\n",
       "      <td>2018-04-27 07:54:35 UTC</td>\n",
       "      <td>Amsterdam</td>\n",
       "      <td>796473</td>\n",
       "      <td>bryonycross</td>\n",
       "      <td>2018-04-27 08:54:45 UTC</td>\n",
       "      <td>2018-04-27 20:23:41 UTC</td>\n",
       "      <td>research</td>\n",
       "      <td>...</td>\n",
       "      <td>NaN</td>\n",
       "      <td>NaN</td>\n",
       "      <td>False</td>\n",
       "      <td>NaN</td>\n",
       "      <td>NaN</td>\n",
       "      <td>Green Alkanet</td>\n",
       "      <td>Pentaglottis sempervirens</td>\n",
       "      <td>Green Alkanet</td>\n",
       "      <td>Plantae</td>\n",
       "      <td>166466.0</td>\n",
       "    </tr>\n",
       "    <tr>\n",
       "      <th>4</th>\n",
       "      <td>11482247</td>\n",
       "      <td>2018-04-27 8:42:21 am BST</td>\n",
       "      <td>2018-04-27</td>\n",
       "      <td>2018-04-27 07:42:21 UTC</td>\n",
       "      <td>London</td>\n",
       "      <td>664459</td>\n",
       "      <td>lucyrobinsonnhm</td>\n",
       "      <td>2018-04-27 10:09:55 UTC</td>\n",
       "      <td>2018-04-27 15:37:31 UTC</td>\n",
       "      <td>research</td>\n",
       "      <td>...</td>\n",
       "      <td>NaN</td>\n",
       "      <td>NaN</td>\n",
       "      <td>False</td>\n",
       "      <td>gps</td>\n",
       "      <td>gps</td>\n",
       "      <td>London Plane</td>\n",
       "      <td>Platanus × hispanica</td>\n",
       "      <td>London Plane</td>\n",
       "      <td>Plantae</td>\n",
       "      <td>552449.0</td>\n",
       "    </tr>\n",
       "  </tbody>\n",
       "</table>\n",
       "<p>5 rows × 34 columns</p>\n",
       "</div>"
      ],
      "text/plain": [
       "         id                         observed_on_string observed_on  \\\n",
       "0  11479007                  2018-04-27 7:52:34 am BST  2018-04-27   \n",
       "1  11480212                  2018-04-27 8:39:41 am BST  2018-04-27   \n",
       "2  11480902  Fri Apr 27 2018 08:34:31 GMT+0100 (GMT+1)  2018-04-27   \n",
       "3  11481097  Fri Apr 27 2018 09:54:35 GMT+0100 (GMT+1)  2018-04-27   \n",
       "4  11482247                  2018-04-27 8:42:21 am BST  2018-04-27   \n",
       "\n",
       "          time_observed_at  time_zone  user_id       user_login  \\\n",
       "0  2018-04-27 07:52:34 UTC        UTC   159021             muki   \n",
       "1  2018-04-27 07:39:41 UTC     London   664459  lucyrobinsonnhm   \n",
       "2  2018-04-27 06:34:31 UTC  Amsterdam   908315           tess26   \n",
       "3  2018-04-27 07:54:35 UTC  Amsterdam   796473      bryonycross   \n",
       "4  2018-04-27 07:42:21 UTC     London   664459  lucyrobinsonnhm   \n",
       "\n",
       "                created_at               updated_at quality_grade  ...  \\\n",
       "0  2018-04-27 07:06:17 UTC  2018-04-27 09:26:56 UTC      research  ...   \n",
       "1  2018-04-27 08:02:52 UTC  2019-01-29 21:16:34 UTC      research  ...   \n",
       "2  2018-04-27 08:42:01 UTC  2018-04-27 11:01:49 UTC        casual  ...   \n",
       "3  2018-04-27 08:54:45 UTC  2018-04-27 20:23:41 UTC      research  ...   \n",
       "4  2018-04-27 10:09:55 UTC  2018-04-27 15:37:31 UTC      research  ...   \n",
       "\n",
       "  geoprivacy taxon_geoprivacy coordinates_obscured  positioning_method  \\\n",
       "0        NaN              NaN                False                 gps   \n",
       "1        NaN             open                False                 gps   \n",
       "2        NaN              NaN                False                 NaN   \n",
       "3        NaN              NaN                False                 NaN   \n",
       "4        NaN              NaN                False                 gps   \n",
       "\n",
       "  positioning_device            species_guess            scientific_name  \\\n",
       "0                gps         lesser celandine              Ficaria verna   \n",
       "1                gps  Pigeon biset domestique    Columba livia domestica   \n",
       "2                NaN                      NaN    Hyacinthoides hispanica   \n",
       "3                NaN            Green Alkanet  Pentaglottis sempervirens   \n",
       "4                gps             London Plane       Platanus × hispanica   \n",
       "\n",
       "        common_name  iconic_taxon_name  taxon_id  \n",
       "0  lesser celandine            Plantae  204321.0  \n",
       "1      Feral Pigeon               Aves  122767.0  \n",
       "2  Spanish Bluebell            Plantae   57635.0  \n",
       "3     Green Alkanet            Plantae  166466.0  \n",
       "4      London Plane            Plantae  552449.0  \n",
       "\n",
       "[5 rows x 34 columns]"
      ]
     },
     "execution_count": 4,
     "metadata": {},
     "output_type": "execute_result"
    }
   ],
   "source": [
    "# import datasets\n",
    "from collections import defaultdict\n",
    "dfs = defaultdict(dict)\n",
    "dfall = []\n",
    "\n",
    "for city, years in cities_years.items():\n",
    "    for year in years:\n",
    "        print(\"Loading: \", city, year)\n",
    "        df = pd.read_csv('C:\\\\Users\\\\User\\\\Downloads\\\\citizen_science_inaturalist-main\\\\data\\\\CNC_{}_{}.csv'.format(city, year))\n",
    "        dfs[city][year] = df\n",
    "        dfall.append(df)\n",
    "\n",
    "dfall = pd.concat(dfall)\n",
    "dfs['London'][2018].head()"
   ]
  },
  {
   "cell_type": "code",
   "execution_count": 6,
   "id": "63fc61f4",
   "metadata": {},
   "outputs": [
    {
     "data": {
      "text/plain": [
       "(31799, 34)"
      ]
     },
     "execution_count": 6,
     "metadata": {},
     "output_type": "execute_result"
    }
   ],
   "source": [
    "df.shape"
   ]
  },
  {
   "cell_type": "markdown",
   "id": "young-missouri",
   "metadata": {},
   "source": [
    " Calculate total number of observations in all CNCs"
   ]
  },
  {
   "cell_type": "code",
   "execution_count": 7,
   "id": "wired-console",
   "metadata": {},
   "outputs": [
    {
     "name": "stdout",
     "output_type": "stream",
     "text": [
      "Sum of observations of all CNCs: 201928\n"
     ]
    }
   ],
   "source": [
    "# total count of observations in all CNCs\n",
    "all_obs = len(dfall)\n",
    "print('Sum of observations of all CNCs:', all_obs)"
   ]
  },
  {
   "cell_type": "code",
   "execution_count": 8,
   "id": "raised-nigeria",
   "metadata": {},
   "outputs": [
    {
     "name": "stdout",
     "output_type": "stream",
     "text": [
      "Total number of participants over all CNCs: 10052\n"
     ]
    }
   ],
   "source": [
    "# count of different users who participated in the CNCs (counting each user only once, even if they participated in more than one challenge)\n",
    "users_unique = len(dfall['user_id'].value_counts())\n",
    "print('Total number of participants over all CNCs:', users_unique)"
   ]
  },
  {
   "cell_type": "code",
   "execution_count": 9,
   "id": "governmental-calculator",
   "metadata": {},
   "outputs": [
    {
     "name": "stdout",
     "output_type": "stream",
     "text": [
      "London 2018 :\n",
      "user count: 109\n",
      "     user_id  obs_count\n",
      "0     353381        567\n",
      "1     664459        150\n",
      "2     911337        125\n",
      "3     883351         97\n",
      "4     781146         95\n",
      "..       ...        ...\n",
      "104   910982          1\n",
      "105   915088          1\n",
      "106   921599          1\n",
      "107   921568          1\n",
      "108  2072865          1\n",
      "\n",
      "[109 rows x 2 columns]\n",
      "London 2019 :\n",
      "user count: 281\n",
      "     user_id  obs_count\n",
      "0     353381       1085\n",
      "1    1358449        219\n",
      "2     923147        202\n",
      "3     894051        163\n",
      "4     781146        145\n",
      "..       ...        ...\n",
      "276  1674540          1\n",
      "277  1685614          1\n",
      "278  1615211          1\n",
      "279  1686017          1\n",
      "280  3110080          1\n",
      "\n",
      "[281 rows x 2 columns]\n",
      "London 2020 :\n",
      "user count: 561\n",
      "     user_id  obs_count\n",
      "0    1488476        355\n",
      "1    2782355        299\n",
      "2     353381        274\n",
      "3    1624432        185\n",
      "4     908569        183\n",
      "..       ...        ...\n",
      "556  1839196          1\n",
      "557  2808650          1\n",
      "558  1706831          1\n",
      "559  1998857          1\n",
      "560  2763644          1\n",
      "\n",
      "[561 rows x 2 columns]\n",
      "Los_Angeles 2018 :\n",
      "user count: 887\n",
      "     user_id  obs_count\n",
      "0      12809       1407\n",
      "1      34687        959\n",
      "2     223005        765\n",
      "3     220795        614\n",
      "4      21786        598\n",
      "..       ...        ...\n",
      "882   924022          1\n",
      "883   524324          1\n",
      "884   846847          1\n",
      "885   222087          1\n",
      "886  2771965          1\n",
      "\n",
      "[887 rows x 2 columns]\n",
      "Los_Angeles 2019 :\n",
      "user count: 1601\n",
      "      user_id  obs_count\n",
      "0       12809       1186\n",
      "1       34687       1057\n",
      "2       81779        823\n",
      "3      223005        810\n",
      "4      617101        809\n",
      "...       ...        ...\n",
      "1596   487517          1\n",
      "1597  1516542          1\n",
      "1598  1447861          1\n",
      "1599    76096          1\n",
      "1600   760512          1\n",
      "\n",
      "[1601 rows x 2 columns]\n",
      "Los_Angeles 2020 :\n",
      "user count: 1645\n",
      "      user_id  obs_count\n",
      "0      154824        719\n",
      "1      421748        574\n",
      "2      223005        505\n",
      "3       34687        443\n",
      "4       35725        407\n",
      "...       ...        ...\n",
      "1640  2647951          1\n",
      "1641   145575          1\n",
      "1642    90080          1\n",
      "1643   248231          1\n",
      "1644  3153531          1\n",
      "\n",
      "[1645 rows x 2 columns]\n",
      "San_Francisco 2018 :\n",
      "user count: 1747\n",
      "      user_id  obs_count\n",
      "0        2991        887\n",
      "1        4862        598\n",
      "2       16101        598\n",
      "3       17796        587\n",
      "4       34038        586\n",
      "...       ...        ...\n",
      "1742   748577          1\n",
      "1743   858099          1\n",
      "1744   897209          1\n",
      "1745   927673          1\n",
      "1746   761991          1\n",
      "\n",
      "[1747 rows x 2 columns]\n",
      "San_Francisco 2019 :\n",
      "user count: 2136\n",
      "      user_id  obs_count\n",
      "0        2991        730\n",
      "1       34038        699\n",
      "2        8778        612\n",
      "3        3494        558\n",
      "4       46415        541\n",
      "...       ...        ...\n",
      "2131  1641147          1\n",
      "2132  1566405          1\n",
      "2133  1425456          1\n",
      "2134  1692455          1\n",
      "2135  2942918          1\n",
      "\n",
      "[2136 rows x 2 columns]\n",
      "San_Francisco 2020 :\n",
      "user count: 2655\n",
      "      user_id  obs_count\n",
      "0        7302        517\n",
      "1       46415        500\n",
      "2       17796        460\n",
      "3       34038        440\n",
      "4        3342        421\n",
      "...       ...        ...\n",
      "2650  2783819          1\n",
      "2651  2703656          1\n",
      "2652  2370850          1\n",
      "2653  1432420          1\n",
      "2654  2848375          1\n",
      "\n",
      "[2655 rows x 2 columns]\n"
     ]
    }
   ],
   "source": [
    "# count of total participants of the CNCs (counting users as new users for each CNC, if they participated in more than one)\n",
    "users_total = 0\n",
    "# dataframe for observations per user over all CNCs (counting users as new users for each CNC, if they participated in more than one)\n",
    "dfall2 = []\n",
    "\n",
    "for city, years in cities_years.items():\n",
    "    for year in years:\n",
    "        print(city, year, ':')\n",
    "        # user count over all CNCS (users who participated in several CNCs are counted as new users for each event)\n",
    "        df_obs_per_user = dfs[city][year]['user_id'].value_counts()\n",
    "        print('user count:', len(df_obs_per_user))\n",
    "        users_total += len(df_obs_per_user)\n",
    "        df_obs_per_user = df_obs_per_user.rename_axis('user_id').reset_index(name='obs_count')\n",
    "        print(df_obs_per_user)\n",
    "        dfall2.append(df_obs_per_user)"
   ]
  },
  {
   "cell_type": "code",
   "execution_count": null,
   "id": "turkish-digest",
   "metadata": {},
   "outputs": [],
   "source": []
  },
  {
   "cell_type": "code",
   "execution_count": 10,
   "id": "little-porcelain",
   "metadata": {},
   "outputs": [
    {
     "name": "stdout",
     "output_type": "stream",
     "text": [
      "1570\n"
     ]
    }
   ],
   "source": [
    "# users who participated in more than one challenge\n",
    "print(users_total - users_unique)"
   ]
  },
  {
   "cell_type": "code",
   "execution_count": 11,
   "id": "imported-afghanistan",
   "metadata": {},
   "outputs": [
    {
     "name": "stdout",
     "output_type": "stream",
     "text": [
      "total user count: 11622\n"
     ]
    }
   ],
   "source": [
    "print('total user count:', users_total)\n",
    "# observations per user, summed up over all CNCs\n",
    "\n",
    "# Histogram of observations per user for all CNCs\n",
    "\n",
    "# make log plot from histogram"
   ]
  },
  {
   "cell_type": "code",
   "execution_count": 12,
   "id": "furnished-vegetable",
   "metadata": {},
   "outputs": [
    {
     "data": {
      "text/plain": [
       "(11622, 2)"
      ]
     },
     "execution_count": 12,
     "metadata": {},
     "output_type": "execute_result"
    }
   ],
   "source": [
    "dfall2 = pd.concat(dfall2)\n",
    "dfall2.shape"
   ]
  },
  {
   "cell_type": "code",
   "execution_count": 13,
   "id": "answering-timeline",
   "metadata": {},
   "outputs": [
    {
     "data": {
      "image/png": "[encoded data removed]",
      "text/plain": [
       "<Figure size 960x720 with 1 Axes>"
      ]
     },
     "metadata": {},
     "output_type": "display_data"
    }
   ],
   "source": [
    "import matplotlib as plt\n",
    "\n",
    "ax = dfall2.hist(column='obs_count')"
   ]
  },
  {
   "cell_type": "code",
   "execution_count": 14,
   "id": "quantitative-activation",
   "metadata": {},
   "outputs": [
    {
     "name": "stderr",
     "output_type": "stream",
     "text": [
      "D:\\Anaconda\\lib\\site-packages\\seaborn\\_core.py:1057: FutureWarning: reindexing with a non-unique Index is deprecated and will raise in a future version.\n",
      "  comp_col.loc[orig.index] = pd.to_numeric(axis.convert_units(orig))\n"
     ]
    },
    {
     "ename": "ValueError",
     "evalue": "cannot reindex on an axis with duplicate labels",
     "output_type": "error",
     "traceback": [
      "\u001b[1;31m---------------------------------------------------------------------------\u001b[0m",
      "\u001b[1;31mValueError\u001b[0m                                Traceback (most recent call last)",
      "\u001b[1;32m~\\AppData\\Local\\Temp\\ipykernel_23220\\276531877.py\u001b[0m in \u001b[0;36m<module>\u001b[1;34m\u001b[0m\n\u001b[0;32m      1\u001b[0m \u001b[1;32mimport\u001b[0m \u001b[0mseaborn\u001b[0m \u001b[1;32mas\u001b[0m \u001b[0msns\u001b[0m\u001b[1;33m\u001b[0m\u001b[1;33m\u001b[0m\u001b[0m\n\u001b[0;32m      2\u001b[0m \u001b[1;33m\u001b[0m\u001b[0m\n\u001b[1;32m----> 3\u001b[1;33m \u001b[0max\u001b[0m \u001b[1;33m=\u001b[0m \u001b[0msns\u001b[0m\u001b[1;33m.\u001b[0m\u001b[0mdisplot\u001b[0m\u001b[1;33m(\u001b[0m\u001b[0mdata\u001b[0m\u001b[1;33m=\u001b[0m\u001b[0mdfall2\u001b[0m\u001b[1;33m,\u001b[0m \u001b[0mx\u001b[0m\u001b[1;33m=\u001b[0m\u001b[1;34m\"obs_count\"\u001b[0m\u001b[1;33m,\u001b[0m \u001b[0mlog_scale\u001b[0m\u001b[1;33m=\u001b[0m\u001b[1;32mTrue\u001b[0m\u001b[1;33m)\u001b[0m\u001b[1;33m\u001b[0m\u001b[1;33m\u001b[0m\u001b[0m\n\u001b[0m\u001b[0;32m      4\u001b[0m \u001b[0max\u001b[0m\u001b[1;33m.\u001b[0m\u001b[0mset\u001b[0m\u001b[1;33m(\u001b[0m\u001b[0mxlabel\u001b[0m\u001b[1;33m=\u001b[0m\u001b[1;34m'observation count'\u001b[0m\u001b[1;33m,\u001b[0m \u001b[0mylabel\u001b[0m\u001b[1;33m=\u001b[0m\u001b[1;34m'count'\u001b[0m\u001b[1;33m)\u001b[0m\u001b[1;33m\u001b[0m\u001b[1;33m\u001b[0m\u001b[0m\n",
      "\u001b[1;32mD:\\Anaconda\\lib\\site-packages\\seaborn\\distributions.py\u001b[0m in \u001b[0;36mdisplot\u001b[1;34m(data, x, y, hue, row, col, weights, kind, rug, rug_kws, log_scale, legend, palette, hue_order, hue_norm, color, col_wrap, row_order, col_order, height, aspect, facet_kws, **kwargs)\u001b[0m\n\u001b[0;32m   2272\u001b[0m \u001b[1;33m\u001b[0m\u001b[0m\n\u001b[0;32m   2273\u001b[0m             \u001b[0m_assign_default_kwargs\u001b[0m\u001b[1;33m(\u001b[0m\u001b[0mhist_kws\u001b[0m\u001b[1;33m,\u001b[0m \u001b[0mp\u001b[0m\u001b[1;33m.\u001b[0m\u001b[0mplot_univariate_histogram\u001b[0m\u001b[1;33m,\u001b[0m \u001b[0mhistplot\u001b[0m\u001b[1;33m)\u001b[0m\u001b[1;33m\u001b[0m\u001b[1;33m\u001b[0m\u001b[0m\n\u001b[1;32m-> 2274\u001b[1;33m             \u001b[0mp\u001b[0m\u001b[1;33m.\u001b[0m\u001b[0mplot_univariate_histogram\u001b[0m\u001b[1;33m(\u001b[0m\u001b[1;33m**\u001b[0m\u001b[0mhist_kws\u001b[0m\u001b[1;33m)\u001b[0m\u001b[1;33m\u001b[0m\u001b[1;33m\u001b[0m\u001b[0m\n\u001b[0m\u001b[0;32m   2275\u001b[0m \u001b[1;33m\u001b[0m\u001b[0m\n\u001b[0;32m   2276\u001b[0m         \u001b[1;32melse\u001b[0m\u001b[1;33m:\u001b[0m\u001b[1;33m\u001b[0m\u001b[1;33m\u001b[0m\u001b[0m\n",
      "\u001b[1;32mD:\\Anaconda\\lib\\site-packages\\seaborn\\distributions.py\u001b[0m in \u001b[0;36mplot_univariate_histogram\u001b[1;34m(self, multiple, element, fill, common_norm, common_bins, shrink, kde, kde_kws, color, legend, line_kws, estimate_kws, **plot_kws)\u001b[0m\n\u001b[0;32m    426\u001b[0m \u001b[1;33m\u001b[0m\u001b[0m\n\u001b[0;32m    427\u001b[0m         \u001b[1;31m# First pass through the data to compute the histograms\u001b[0m\u001b[1;33m\u001b[0m\u001b[1;33m\u001b[0m\u001b[0m\n\u001b[1;32m--> 428\u001b[1;33m         \u001b[1;32mfor\u001b[0m \u001b[0msub_vars\u001b[0m\u001b[1;33m,\u001b[0m \u001b[0msub_data\u001b[0m \u001b[1;32min\u001b[0m \u001b[0mself\u001b[0m\u001b[1;33m.\u001b[0m\u001b[0miter_data\u001b[0m\u001b[1;33m(\u001b[0m\u001b[1;34m\"hue\"\u001b[0m\u001b[1;33m,\u001b[0m \u001b[0mfrom_comp_data\u001b[0m\u001b[1;33m=\u001b[0m\u001b[1;32mTrue\u001b[0m\u001b[1;33m)\u001b[0m\u001b[1;33m:\u001b[0m\u001b[1;33m\u001b[0m\u001b[1;33m\u001b[0m\u001b[0m\n\u001b[0m\u001b[0;32m    429\u001b[0m \u001b[1;33m\u001b[0m\u001b[0m\n\u001b[0;32m    430\u001b[0m             \u001b[1;31m# Prepare the relevant data\u001b[0m\u001b[1;33m\u001b[0m\u001b[1;33m\u001b[0m\u001b[0m\n",
      "\u001b[1;32mD:\\Anaconda\\lib\\site-packages\\seaborn\\_core.py\u001b[0m in \u001b[0;36miter_data\u001b[1;34m(self, grouping_vars, reverse, from_comp_data)\u001b[0m\n\u001b[0;32m    981\u001b[0m \u001b[1;33m\u001b[0m\u001b[0m\n\u001b[0;32m    982\u001b[0m         \u001b[1;32mif\u001b[0m \u001b[0mfrom_comp_data\u001b[0m\u001b[1;33m:\u001b[0m\u001b[1;33m\u001b[0m\u001b[1;33m\u001b[0m\u001b[0m\n\u001b[1;32m--> 983\u001b[1;33m             \u001b[0mdata\u001b[0m \u001b[1;33m=\u001b[0m \u001b[0mself\u001b[0m\u001b[1;33m.\u001b[0m\u001b[0mcomp_data\u001b[0m\u001b[1;33m\u001b[0m\u001b[1;33m\u001b[0m\u001b[0m\n\u001b[0m\u001b[0;32m    984\u001b[0m         \u001b[1;32melse\u001b[0m\u001b[1;33m:\u001b[0m\u001b[1;33m\u001b[0m\u001b[1;33m\u001b[0m\u001b[0m\n\u001b[0;32m    985\u001b[0m             \u001b[0mdata\u001b[0m \u001b[1;33m=\u001b[0m \u001b[0mself\u001b[0m\u001b[1;33m.\u001b[0m\u001b[0mplot_data\u001b[0m\u001b[1;33m\u001b[0m\u001b[1;33m\u001b[0m\u001b[0m\n",
      "\u001b[1;32mD:\\Anaconda\\lib\\site-packages\\seaborn\\_core.py\u001b[0m in \u001b[0;36mcomp_data\u001b[1;34m(self)\u001b[0m\n\u001b[0;32m   1055\u001b[0m                     \u001b[0morig\u001b[0m \u001b[1;33m=\u001b[0m \u001b[0mself\u001b[0m\u001b[1;33m.\u001b[0m\u001b[0mplot_data\u001b[0m\u001b[1;33m[\u001b[0m\u001b[0mvar\u001b[0m\u001b[1;33m]\u001b[0m\u001b[1;33m.\u001b[0m\u001b[0mdropna\u001b[0m\u001b[1;33m(\u001b[0m\u001b[1;33m)\u001b[0m\u001b[1;33m\u001b[0m\u001b[1;33m\u001b[0m\u001b[0m\n\u001b[0;32m   1056\u001b[0m                 \u001b[0mcomp_col\u001b[0m \u001b[1;33m=\u001b[0m \u001b[0mpd\u001b[0m\u001b[1;33m.\u001b[0m\u001b[0mSeries\u001b[0m\u001b[1;33m(\u001b[0m\u001b[0mindex\u001b[0m\u001b[1;33m=\u001b[0m\u001b[0morig\u001b[0m\u001b[1;33m.\u001b[0m\u001b[0mindex\u001b[0m\u001b[1;33m,\u001b[0m \u001b[0mdtype\u001b[0m\u001b[1;33m=\u001b[0m\u001b[0mfloat\u001b[0m\u001b[1;33m,\u001b[0m \u001b[0mname\u001b[0m\u001b[1;33m=\u001b[0m\u001b[0mvar\u001b[0m\u001b[1;33m)\u001b[0m\u001b[1;33m\u001b[0m\u001b[1;33m\u001b[0m\u001b[0m\n\u001b[1;32m-> 1057\u001b[1;33m                 \u001b[0mcomp_col\u001b[0m\u001b[1;33m.\u001b[0m\u001b[0mloc\u001b[0m\u001b[1;33m[\u001b[0m\u001b[0morig\u001b[0m\u001b[1;33m.\u001b[0m\u001b[0mindex\u001b[0m\u001b[1;33m]\u001b[0m \u001b[1;33m=\u001b[0m \u001b[0mpd\u001b[0m\u001b[1;33m.\u001b[0m\u001b[0mto_numeric\u001b[0m\u001b[1;33m(\u001b[0m\u001b[0maxis\u001b[0m\u001b[1;33m.\u001b[0m\u001b[0mconvert_units\u001b[0m\u001b[1;33m(\u001b[0m\u001b[0morig\u001b[0m\u001b[1;33m)\u001b[0m\u001b[1;33m)\u001b[0m\u001b[1;33m\u001b[0m\u001b[1;33m\u001b[0m\u001b[0m\n\u001b[0m\u001b[0;32m   1058\u001b[0m \u001b[1;33m\u001b[0m\u001b[0m\n\u001b[0;32m   1059\u001b[0m                 \u001b[1;32mif\u001b[0m \u001b[0maxis\u001b[0m\u001b[1;33m.\u001b[0m\u001b[0mget_scale\u001b[0m\u001b[1;33m(\u001b[0m\u001b[1;33m)\u001b[0m \u001b[1;33m==\u001b[0m \u001b[1;34m\"log\"\u001b[0m\u001b[1;33m:\u001b[0m\u001b[1;33m\u001b[0m\u001b[1;33m\u001b[0m\u001b[0m\n",
      "\u001b[1;32mD:\\Anaconda\\lib\\site-packages\\pandas\\core\\indexing.py\u001b[0m in \u001b[0;36m__setitem__\u001b[1;34m(self, key, value)\u001b[0m\n\u001b[0;32m    714\u001b[0m \u001b[1;33m\u001b[0m\u001b[0m\n\u001b[0;32m    715\u001b[0m         \u001b[0miloc\u001b[0m \u001b[1;33m=\u001b[0m \u001b[0mself\u001b[0m \u001b[1;32mif\u001b[0m \u001b[0mself\u001b[0m\u001b[1;33m.\u001b[0m\u001b[0mname\u001b[0m \u001b[1;33m==\u001b[0m \u001b[1;34m\"iloc\"\u001b[0m \u001b[1;32melse\u001b[0m \u001b[0mself\u001b[0m\u001b[1;33m.\u001b[0m\u001b[0mobj\u001b[0m\u001b[1;33m.\u001b[0m\u001b[0miloc\u001b[0m\u001b[1;33m\u001b[0m\u001b[1;33m\u001b[0m\u001b[0m\n\u001b[1;32m--> 716\u001b[1;33m         \u001b[0miloc\u001b[0m\u001b[1;33m.\u001b[0m\u001b[0m_setitem_with_indexer\u001b[0m\u001b[1;33m(\u001b[0m\u001b[0mindexer\u001b[0m\u001b[1;33m,\u001b[0m \u001b[0mvalue\u001b[0m\u001b[1;33m,\u001b[0m \u001b[0mself\u001b[0m\u001b[1;33m.\u001b[0m\u001b[0mname\u001b[0m\u001b[1;33m)\u001b[0m\u001b[1;33m\u001b[0m\u001b[1;33m\u001b[0m\u001b[0m\n\u001b[0m\u001b[0;32m    717\u001b[0m \u001b[1;33m\u001b[0m\u001b[0m\n\u001b[0;32m    718\u001b[0m     \u001b[1;32mdef\u001b[0m \u001b[0m_validate_key\u001b[0m\u001b[1;33m(\u001b[0m\u001b[0mself\u001b[0m\u001b[1;33m,\u001b[0m \u001b[0mkey\u001b[0m\u001b[1;33m,\u001b[0m \u001b[0maxis\u001b[0m\u001b[1;33m:\u001b[0m \u001b[0mint\u001b[0m\u001b[1;33m)\u001b[0m\u001b[1;33m:\u001b[0m\u001b[1;33m\u001b[0m\u001b[1;33m\u001b[0m\u001b[0m\n",
      "\u001b[1;32mD:\\Anaconda\\lib\\site-packages\\pandas\\core\\indexing.py\u001b[0m in \u001b[0;36m_setitem_with_indexer\u001b[1;34m(self, indexer, value, name)\u001b[0m\n\u001b[0;32m   1691\u001b[0m             \u001b[0mself\u001b[0m\u001b[1;33m.\u001b[0m\u001b[0m_setitem_with_indexer_split_path\u001b[0m\u001b[1;33m(\u001b[0m\u001b[0mindexer\u001b[0m\u001b[1;33m,\u001b[0m \u001b[0mvalue\u001b[0m\u001b[1;33m,\u001b[0m \u001b[0mname\u001b[0m\u001b[1;33m)\u001b[0m\u001b[1;33m\u001b[0m\u001b[1;33m\u001b[0m\u001b[0m\n\u001b[0;32m   1692\u001b[0m         \u001b[1;32melse\u001b[0m\u001b[1;33m:\u001b[0m\u001b[1;33m\u001b[0m\u001b[1;33m\u001b[0m\u001b[0m\n\u001b[1;32m-> 1693\u001b[1;33m             \u001b[0mself\u001b[0m\u001b[1;33m.\u001b[0m\u001b[0m_setitem_single_block\u001b[0m\u001b[1;33m(\u001b[0m\u001b[0mindexer\u001b[0m\u001b[1;33m,\u001b[0m \u001b[0mvalue\u001b[0m\u001b[1;33m,\u001b[0m \u001b[0mname\u001b[0m\u001b[1;33m)\u001b[0m\u001b[1;33m\u001b[0m\u001b[1;33m\u001b[0m\u001b[0m\n\u001b[0m\u001b[0;32m   1694\u001b[0m \u001b[1;33m\u001b[0m\u001b[0m\n\u001b[0;32m   1695\u001b[0m     \u001b[1;32mdef\u001b[0m \u001b[0m_setitem_with_indexer_split_path\u001b[0m\u001b[1;33m(\u001b[0m\u001b[0mself\u001b[0m\u001b[1;33m,\u001b[0m \u001b[0mindexer\u001b[0m\u001b[1;33m,\u001b[0m \u001b[0mvalue\u001b[0m\u001b[1;33m,\u001b[0m \u001b[0mname\u001b[0m\u001b[1;33m:\u001b[0m \u001b[0mstr\u001b[0m\u001b[1;33m)\u001b[0m\u001b[1;33m:\u001b[0m\u001b[1;33m\u001b[0m\u001b[1;33m\u001b[0m\u001b[0m\n",
      "\u001b[1;32mD:\\Anaconda\\lib\\site-packages\\pandas\\core\\indexing.py\u001b[0m in \u001b[0;36m_setitem_single_block\u001b[1;34m(self, indexer, value, name)\u001b[0m\n\u001b[0;32m   1932\u001b[0m             \u001b[1;31m# setting for extensionarrays that store dicts. Need to decide\u001b[0m\u001b[1;33m\u001b[0m\u001b[1;33m\u001b[0m\u001b[0m\n\u001b[0;32m   1933\u001b[0m             \u001b[1;31m# if it's worth supporting that.\u001b[0m\u001b[1;33m\u001b[0m\u001b[1;33m\u001b[0m\u001b[0m\n\u001b[1;32m-> 1934\u001b[1;33m             \u001b[0mvalue\u001b[0m \u001b[1;33m=\u001b[0m \u001b[0mself\u001b[0m\u001b[1;33m.\u001b[0m\u001b[0m_align_series\u001b[0m\u001b[1;33m(\u001b[0m\u001b[0mindexer\u001b[0m\u001b[1;33m,\u001b[0m \u001b[0mSeries\u001b[0m\u001b[1;33m(\u001b[0m\u001b[0mvalue\u001b[0m\u001b[1;33m)\u001b[0m\u001b[1;33m)\u001b[0m\u001b[1;33m\u001b[0m\u001b[1;33m\u001b[0m\u001b[0m\n\u001b[0m\u001b[0;32m   1935\u001b[0m \u001b[1;33m\u001b[0m\u001b[0m\n\u001b[0;32m   1936\u001b[0m         \u001b[1;32melif\u001b[0m \u001b[0misinstance\u001b[0m\u001b[1;33m(\u001b[0m\u001b[0mvalue\u001b[0m\u001b[1;33m,\u001b[0m \u001b[0mABCDataFrame\u001b[0m\u001b[1;33m)\u001b[0m \u001b[1;32mand\u001b[0m \u001b[0mname\u001b[0m \u001b[1;33m!=\u001b[0m \u001b[1;34m\"iloc\"\u001b[0m\u001b[1;33m:\u001b[0m\u001b[1;33m\u001b[0m\u001b[1;33m\u001b[0m\u001b[0m\n",
      "\u001b[1;32mD:\\Anaconda\\lib\\site-packages\\pandas\\core\\indexing.py\u001b[0m in \u001b[0;36m_align_series\u001b[1;34m(self, indexer, ser, multiindex_indexer)\u001b[0m\n\u001b[0;32m   2094\u001b[0m                 \u001b[1;32mif\u001b[0m \u001b[0mobj\u001b[0m\u001b[1;33m.\u001b[0m\u001b[0mndim\u001b[0m \u001b[1;33m==\u001b[0m \u001b[1;36m2\u001b[0m \u001b[1;32mand\u001b[0m \u001b[0mis_empty_indexer\u001b[0m\u001b[1;33m(\u001b[0m\u001b[0mindexer\u001b[0m\u001b[1;33m[\u001b[0m\u001b[1;36m0\u001b[0m\u001b[1;33m]\u001b[0m\u001b[1;33m,\u001b[0m \u001b[0mser\u001b[0m\u001b[1;33m.\u001b[0m\u001b[0m_values\u001b[0m\u001b[1;33m)\u001b[0m\u001b[1;33m:\u001b[0m\u001b[1;33m\u001b[0m\u001b[1;33m\u001b[0m\u001b[0m\n\u001b[0;32m   2095\u001b[0m                     \u001b[1;32mreturn\u001b[0m \u001b[0mser\u001b[0m\u001b[1;33m.\u001b[0m\u001b[0m_values\u001b[0m\u001b[1;33m.\u001b[0m\u001b[0mcopy\u001b[0m\u001b[1;33m(\u001b[0m\u001b[1;33m)\u001b[0m\u001b[1;33m\u001b[0m\u001b[1;33m\u001b[0m\u001b[0m\n\u001b[1;32m-> 2096\u001b[1;33m                 \u001b[0mser\u001b[0m \u001b[1;33m=\u001b[0m \u001b[0mser\u001b[0m\u001b[1;33m.\u001b[0m\u001b[0mreindex\u001b[0m\u001b[1;33m(\u001b[0m\u001b[0mobj\u001b[0m\u001b[1;33m.\u001b[0m\u001b[0maxes\u001b[0m\u001b[1;33m[\u001b[0m\u001b[1;36m0\u001b[0m\u001b[1;33m]\u001b[0m\u001b[1;33m[\u001b[0m\u001b[0mindexer\u001b[0m\u001b[1;33m[\u001b[0m\u001b[1;36m0\u001b[0m\u001b[1;33m]\u001b[0m\u001b[1;33m]\u001b[0m\u001b[1;33m,\u001b[0m \u001b[0mcopy\u001b[0m\u001b[1;33m=\u001b[0m\u001b[1;32mTrue\u001b[0m\u001b[1;33m)\u001b[0m\u001b[1;33m.\u001b[0m\u001b[0m_values\u001b[0m\u001b[1;33m\u001b[0m\u001b[1;33m\u001b[0m\u001b[0m\n\u001b[0m\u001b[0;32m   2097\u001b[0m \u001b[1;33m\u001b[0m\u001b[0m\n\u001b[0;32m   2098\u001b[0m                 \u001b[1;31m# single indexer\u001b[0m\u001b[1;33m\u001b[0m\u001b[1;33m\u001b[0m\u001b[0m\n",
      "\u001b[1;32mD:\\Anaconda\\lib\\site-packages\\pandas\\core\\series.py\u001b[0m in \u001b[0;36mreindex\u001b[1;34m(self, *args, **kwargs)\u001b[0m\n\u001b[0;32m   4670\u001b[0m                 )\n\u001b[0;32m   4671\u001b[0m             \u001b[0mkwargs\u001b[0m\u001b[1;33m.\u001b[0m\u001b[0mupdate\u001b[0m\u001b[1;33m(\u001b[0m\u001b[1;33m{\u001b[0m\u001b[1;34m\"index\"\u001b[0m\u001b[1;33m:\u001b[0m \u001b[0mindex\u001b[0m\u001b[1;33m}\u001b[0m\u001b[1;33m)\u001b[0m\u001b[1;33m\u001b[0m\u001b[1;33m\u001b[0m\u001b[0m\n\u001b[1;32m-> 4672\u001b[1;33m         \u001b[1;32mreturn\u001b[0m \u001b[0msuper\u001b[0m\u001b[1;33m(\u001b[0m\u001b[1;33m)\u001b[0m\u001b[1;33m.\u001b[0m\u001b[0mreindex\u001b[0m\u001b[1;33m(\u001b[0m\u001b[1;33m**\u001b[0m\u001b[0mkwargs\u001b[0m\u001b[1;33m)\u001b[0m\u001b[1;33m\u001b[0m\u001b[1;33m\u001b[0m\u001b[0m\n\u001b[0m\u001b[0;32m   4673\u001b[0m \u001b[1;33m\u001b[0m\u001b[0m\n\u001b[0;32m   4674\u001b[0m     \u001b[1;33m@\u001b[0m\u001b[0mdeprecate_nonkeyword_arguments\u001b[0m\u001b[1;33m(\u001b[0m\u001b[0mversion\u001b[0m\u001b[1;33m=\u001b[0m\u001b[1;32mNone\u001b[0m\u001b[1;33m,\u001b[0m \u001b[0mallowed_args\u001b[0m\u001b[1;33m=\u001b[0m\u001b[1;33m[\u001b[0m\u001b[1;34m\"self\"\u001b[0m\u001b[1;33m,\u001b[0m \u001b[1;34m\"labels\"\u001b[0m\u001b[1;33m]\u001b[0m\u001b[1;33m)\u001b[0m\u001b[1;33m\u001b[0m\u001b[1;33m\u001b[0m\u001b[0m\n",
      "\u001b[1;32mD:\\Anaconda\\lib\\site-packages\\pandas\\core\\generic.py\u001b[0m in \u001b[0;36mreindex\u001b[1;34m(self, *args, **kwargs)\u001b[0m\n\u001b[0;32m   4964\u001b[0m \u001b[1;33m\u001b[0m\u001b[0m\n\u001b[0;32m   4965\u001b[0m         \u001b[1;31m# perform the reindex on the axes\u001b[0m\u001b[1;33m\u001b[0m\u001b[1;33m\u001b[0m\u001b[0m\n\u001b[1;32m-> 4966\u001b[1;33m         return self._reindex_axes(\n\u001b[0m\u001b[0;32m   4967\u001b[0m             \u001b[0maxes\u001b[0m\u001b[1;33m,\u001b[0m \u001b[0mlevel\u001b[0m\u001b[1;33m,\u001b[0m \u001b[0mlimit\u001b[0m\u001b[1;33m,\u001b[0m \u001b[0mtolerance\u001b[0m\u001b[1;33m,\u001b[0m \u001b[0mmethod\u001b[0m\u001b[1;33m,\u001b[0m \u001b[0mfill_value\u001b[0m\u001b[1;33m,\u001b[0m \u001b[0mcopy\u001b[0m\u001b[1;33m\u001b[0m\u001b[1;33m\u001b[0m\u001b[0m\n\u001b[0;32m   4968\u001b[0m         ).__finalize__(self, method=\"reindex\")\n",
      "\u001b[1;32mD:\\Anaconda\\lib\\site-packages\\pandas\\core\\generic.py\u001b[0m in \u001b[0;36m_reindex_axes\u001b[1;34m(self, axes, level, limit, tolerance, method, fill_value, copy)\u001b[0m\n\u001b[0;32m   4984\u001b[0m \u001b[1;33m\u001b[0m\u001b[0m\n\u001b[0;32m   4985\u001b[0m             \u001b[0maxis\u001b[0m \u001b[1;33m=\u001b[0m \u001b[0mself\u001b[0m\u001b[1;33m.\u001b[0m\u001b[0m_get_axis_number\u001b[0m\u001b[1;33m(\u001b[0m\u001b[0ma\u001b[0m\u001b[1;33m)\u001b[0m\u001b[1;33m\u001b[0m\u001b[1;33m\u001b[0m\u001b[0m\n\u001b[1;32m-> 4986\u001b[1;33m             obj = obj._reindex_with_indexers(\n\u001b[0m\u001b[0;32m   4987\u001b[0m                 \u001b[1;33m{\u001b[0m\u001b[0maxis\u001b[0m\u001b[1;33m:\u001b[0m \u001b[1;33m[\u001b[0m\u001b[0mnew_index\u001b[0m\u001b[1;33m,\u001b[0m \u001b[0mindexer\u001b[0m\u001b[1;33m]\u001b[0m\u001b[1;33m}\u001b[0m\u001b[1;33m,\u001b[0m\u001b[1;33m\u001b[0m\u001b[1;33m\u001b[0m\u001b[0m\n\u001b[0;32m   4988\u001b[0m                 \u001b[0mfill_value\u001b[0m\u001b[1;33m=\u001b[0m\u001b[0mfill_value\u001b[0m\u001b[1;33m,\u001b[0m\u001b[1;33m\u001b[0m\u001b[1;33m\u001b[0m\u001b[0m\n",
      "\u001b[1;32mD:\\Anaconda\\lib\\site-packages\\pandas\\core\\generic.py\u001b[0m in \u001b[0;36m_reindex_with_indexers\u001b[1;34m(self, reindexers, fill_value, copy, allow_dups)\u001b[0m\n\u001b[0;32m   5030\u001b[0m \u001b[1;33m\u001b[0m\u001b[0m\n\u001b[0;32m   5031\u001b[0m             \u001b[1;31m# TODO: speed up on homogeneous DataFrame objects (see _reindex_multi)\u001b[0m\u001b[1;33m\u001b[0m\u001b[1;33m\u001b[0m\u001b[0m\n\u001b[1;32m-> 5032\u001b[1;33m             new_data = new_data.reindex_indexer(\n\u001b[0m\u001b[0;32m   5033\u001b[0m                 \u001b[0mindex\u001b[0m\u001b[1;33m,\u001b[0m\u001b[1;33m\u001b[0m\u001b[1;33m\u001b[0m\u001b[0m\n\u001b[0;32m   5034\u001b[0m                 \u001b[0mindexer\u001b[0m\u001b[1;33m,\u001b[0m\u001b[1;33m\u001b[0m\u001b[1;33m\u001b[0m\u001b[0m\n",
      "\u001b[1;32mD:\\Anaconda\\lib\\site-packages\\pandas\\core\\internals\\managers.py\u001b[0m in \u001b[0;36mreindex_indexer\u001b[1;34m(self, new_axis, indexer, axis, fill_value, allow_dups, copy, consolidate, only_slice, use_na_proxy)\u001b[0m\n\u001b[0;32m    674\u001b[0m         \u001b[1;31m# some axes don't allow reindexing with dups\u001b[0m\u001b[1;33m\u001b[0m\u001b[1;33m\u001b[0m\u001b[0m\n\u001b[0;32m    675\u001b[0m         \u001b[1;32mif\u001b[0m \u001b[1;32mnot\u001b[0m \u001b[0mallow_dups\u001b[0m\u001b[1;33m:\u001b[0m\u001b[1;33m\u001b[0m\u001b[1;33m\u001b[0m\u001b[0m\n\u001b[1;32m--> 676\u001b[1;33m             \u001b[0mself\u001b[0m\u001b[1;33m.\u001b[0m\u001b[0maxes\u001b[0m\u001b[1;33m[\u001b[0m\u001b[0maxis\u001b[0m\u001b[1;33m]\u001b[0m\u001b[1;33m.\u001b[0m\u001b[0m_validate_can_reindex\u001b[0m\u001b[1;33m(\u001b[0m\u001b[0mindexer\u001b[0m\u001b[1;33m)\u001b[0m\u001b[1;33m\u001b[0m\u001b[1;33m\u001b[0m\u001b[0m\n\u001b[0m\u001b[0;32m    677\u001b[0m \u001b[1;33m\u001b[0m\u001b[0m\n\u001b[0;32m    678\u001b[0m         \u001b[1;32mif\u001b[0m \u001b[0maxis\u001b[0m \u001b[1;33m>=\u001b[0m \u001b[0mself\u001b[0m\u001b[1;33m.\u001b[0m\u001b[0mndim\u001b[0m\u001b[1;33m:\u001b[0m\u001b[1;33m\u001b[0m\u001b[1;33m\u001b[0m\u001b[0m\n",
      "\u001b[1;32mD:\\Anaconda\\lib\\site-packages\\pandas\\core\\indexes\\base.py\u001b[0m in \u001b[0;36m_validate_can_reindex\u001b[1;34m(self, indexer)\u001b[0m\n\u001b[0;32m   4119\u001b[0m         \u001b[1;31m# trying to reindex on an axis with duplicates\u001b[0m\u001b[1;33m\u001b[0m\u001b[1;33m\u001b[0m\u001b[0m\n\u001b[0;32m   4120\u001b[0m         \u001b[1;32mif\u001b[0m \u001b[1;32mnot\u001b[0m \u001b[0mself\u001b[0m\u001b[1;33m.\u001b[0m\u001b[0m_index_as_unique\u001b[0m \u001b[1;32mand\u001b[0m \u001b[0mlen\u001b[0m\u001b[1;33m(\u001b[0m\u001b[0mindexer\u001b[0m\u001b[1;33m)\u001b[0m\u001b[1;33m:\u001b[0m\u001b[1;33m\u001b[0m\u001b[1;33m\u001b[0m\u001b[0m\n\u001b[1;32m-> 4121\u001b[1;33m             \u001b[1;32mraise\u001b[0m \u001b[0mValueError\u001b[0m\u001b[1;33m(\u001b[0m\u001b[1;34m\"cannot reindex on an axis with duplicate labels\"\u001b[0m\u001b[1;33m)\u001b[0m\u001b[1;33m\u001b[0m\u001b[1;33m\u001b[0m\u001b[0m\n\u001b[0m\u001b[0;32m   4122\u001b[0m \u001b[1;33m\u001b[0m\u001b[0m\n\u001b[0;32m   4123\u001b[0m     def reindex(\n",
      "\u001b[1;31mValueError\u001b[0m: cannot reindex on an axis with duplicate labels"
     ]
    },
    {
     "data": {
      "image/png": "[encoded data removed]",
      "text/plain": [
       "<Figure size 750x750 with 1 Axes>"
      ]
     },
     "metadata": {},
     "output_type": "display_data"
    }
   ],
   "source": [
    "import seaborn as sns\n",
    "\n",
    "ax = sns.displot(data=dfall2, x=\"obs_count\", log_scale=True)\n",
    "ax.set(xlabel='observation count', ylabel='count')"
   ]
  },
  {
   "cell_type": "code",
   "execution_count": null,
   "id": "educated-broadway",
   "metadata": {},
   "outputs": [],
   "source": [
    "import seaborn as sns\n",
    "\n",
    "ax = sns.displot(data=dfall2, x=\"obs_count\", log_scale=True)\n",
    "ax.set(xlabel='observation count', ylabel='frequency')"
   ]
  },
  {
   "cell_type": "markdown",
   "id": "3451ea96",
   "metadata": {},
   "source": [
    "# Figure B "
   ]
  },
  {
   "cell_type": "code",
   "execution_count": null,
   "id": "third-robin",
   "metadata": {},
   "outputs": [],
   "source": [
    "fig = plt.figure(figsize=(4,2.8))\n",
    "user_counts = dfall.groupby(by='user_id').count()['id']\n",
    "cum_sum = np.cumsum(user_counts.sort_values())\n",
    "n_users = len(cum_sum)\n",
    "plt.plot(np.linspace(0,1,n_users), cum_sum/cum_sum.iloc[-1], color='k')\n",
    "from matplotlib.ticker import PercentFormatter\n",
    "plt.gca().xaxis.set_major_formatter(PercentFormatter(xmax=1))\n",
    "plt.gca().yaxis.set_major_formatter(PercentFormatter(xmax=1))\n",
    "plt.xlabel(\"Percentage of users (sorted by contributions)\")\n",
    "plt.ylabel(\"Percentage of observations\")\n",
    "\n",
    "quintiles = [50, 90, 99]\n",
    "total_obs = cum_sum.iloc[-1]\n",
    "for q in quintiles:\n",
    "    obs = (total_obs - np.percentile(cum_sum, q=q))/total_obs\n",
    "    print(\"Top {}% of users contribute {:.0%} of observations\".format(100-q, obs))\n",
    "plt.show()"
   ]
  },
  {
   "cell_type": "code",
   "execution_count": null,
   "id": "1e9e4b3c",
   "metadata": {},
   "outputs": [],
   "source": []
  },
  {
   "cell_type": "code",
   "execution_count": null,
   "id": "e8a67e19",
   "metadata": {},
   "outputs": [],
   "source": []
  },
  {
   "cell_type": "code",
   "execution_count": null,
   "id": "6e39fa09",
   "metadata": {},
   "outputs": [],
   "source": []
  },
  {
   "cell_type": "code",
   "execution_count": null,
   "id": "0e2681a5",
   "metadata": {},
   "outputs": [],
   "source": []
  }
 ],
 "metadata": {
  "kernelspec": {
   "display_name": "Python 3 (ipykernel)",
   "language": "python",
   "name": "python3"
  },
  "language_info": {
   "codemirror_mode": {
    "name": "ipython",
    "version": 3
   },
   "file_extension": ".py",
   "mimetype": "text/x-python",
   "name": "python",
   "nbconvert_exporter": "python",
   "pygments_lexer": "ipython3",
   "version": "3.9.13"
  }
 },
 "nbformat": 4,
 "nbformat_minor": 5
}
